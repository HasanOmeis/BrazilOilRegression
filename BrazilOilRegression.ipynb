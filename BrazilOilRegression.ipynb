{
  "cells": [
    {
      "cell_type": "markdown",
      "metadata": {
        "id": "M9wtOWgYJ144"
      },
      "source": [
        "# Regression Model\n",
        "\n",
        "Written by  :  Hasan Omeis\n",
        "\n",
        "Date        :  May 2023\n",
        "\n",
        "Contact     :  https://www.linkedin.com/in/hasan-omeis-b9b431262/"
      ]
    },
    {
      "cell_type": "markdown",
      "metadata": {
        "id": "yg3IGWUTJ14_"
      },
      "source": [
        "______\n",
        "\n",
        "Here is Data which is about Oil prices & its details in Brazil for 15 years, between 2004 & 2019.\n",
        "\n",
        "We are going to read the data, do data processing, then make a model to predict the (mean price) depend on other features.\n",
        "\n",
        "\n",
        "\n",
        "# Data Loading\n",
        "\n",
        "so we are going first to import needed libraries"
      ]
    },
    {
      "cell_type": "code",
      "execution_count": null,
      "metadata": {
        "id": "PSiPlldkJ15C"
      },
      "outputs": [],
      "source": [
        "import numpy as np\n",
        "import pandas as pd\n",
        "import matplotlib.pyplot as plt\n",
        "%matplotlib inline\n",
        "import seaborn as sns\n",
        "sns.set(style=\"whitegrid\")\n",
        "from sklearn.model_selection import train_test_split\n",
        "from sklearn.linear_model import LinearRegression\n",
        "from sklearn.svm import SVR\n",
        "from sklearn.tree import DecisionTreeRegressor"
      ]
    },
    {
      "cell_type": "markdown",
      "metadata": {
        "id": "Qm_dfAlwJ15R"
      },
      "source": [
        "____\n",
        "\n",
        "and since the features are written in portuguese , I translated them to English so we can understand them \n"
      ]
    },
    {
      "cell_type": "code",
      "execution_count": null,
      "metadata": {
        "colab": {
          "base_uri": "https://localhost:8080/",
          "height": 438
        },
        "id": "TTW0TjSqJ15W",
        "outputId": "79658040-d345-454b-d2d2-e735e2bed40c"
      },
      "outputs": [
        {
          "output_type": "execute_result",
          "data": {
            "text/plain": [
              "   Index Initial Date Final Date        Region               State  \\\n",
              "0      0   2004-05-09 2004-05-15  CENTRO OESTE    DISTRITO FEDERAL   \n",
              "1      1   2004-05-09 2004-05-15  CENTRO OESTE               GOIAS   \n",
              "2      2   2004-05-09 2004-05-15  CENTRO OESTE         MATO GROSSO   \n",
              "3      3   2004-05-09 2004-05-15  CENTRO OESTE  MATO GROSSO DO SUL   \n",
              "4      4   2004-05-09 2004-05-15      NORDESTE             ALAGOAS   \n",
              "\n",
              "            Product  Number of searches Unit of Measurment  Mean Price  \\\n",
              "0  ETANOL HIDRATADO                 127               R$/l       1.288   \n",
              "1  ETANOL HIDRATADO                 387               R$/l       1.162   \n",
              "2  ETANOL HIDRATADO                 192               R$/l       1.389   \n",
              "3  ETANOL HIDRATADO                 162               R$/l       1.262   \n",
              "4  ETANOL HIDRATADO                 103               R$/l       1.181   \n",
              "\n",
              "   Default Price  ...  Maximum Price  Mean Margin Price Standar Deviation  \\\n",
              "0          0.016  ...          1.350        0.463                   0.012   \n",
              "1          0.114  ...          1.449        0.399                   0.098   \n",
              "2          0.097  ...          1.760        0.419                   0.070   \n",
              "3          0.070  ...          1.509        0.432                   0.055   \n",
              "4          0.078  ...          1.400         0.24                   0.066   \n",
              "\n",
              "   Mean Price Distribution Default Price Distribution  \\\n",
              "0                    0.825                       0.11   \n",
              "1                    0.763                      0.088   \n",
              "2                     0.97                      0.095   \n",
              "3                     0.83                      0.119   \n",
              "4                    0.941                      0.077   \n",
              "\n",
              "  Minimum Price Distribution Maximum Price Distribution  \\\n",
              "0                     0.4201                     0.9666   \n",
              "1                     0.5013                       1.05   \n",
              "2                     0.5614                      1.161   \n",
              "3                     0.5991                    1.22242   \n",
              "4                     0.7441                     1.0317   \n",
              "\n",
              "  Distribution Standard Deviation M Factor  Year  \n",
              "0                           0.133        5  2004  \n",
              "1                           0.115        5  2004  \n",
              "2                           0.098        5  2004  \n",
              "3                           0.143        5  2004  \n",
              "4                           0.082        5  2004  \n",
              "\n",
              "[5 rows x 21 columns]"
            ],
            "text/html": [
              "\n",
              "  <div id=\"df-872608ee-da2a-4716-9315-1c06c68e7e96\">\n",
              "    <div class=\"colab-df-container\">\n",
              "      <div>\n",
              "<style scoped>\n",
              "    .dataframe tbody tr th:only-of-type {\n",
              "        vertical-align: middle;\n",
              "    }\n",
              "\n",
              "    .dataframe tbody tr th {\n",
              "        vertical-align: top;\n",
              "    }\n",
              "\n",
              "    .dataframe thead th {\n",
              "        text-align: right;\n",
              "    }\n",
              "</style>\n",
              "<table border=\"1\" class=\"dataframe\">\n",
              "  <thead>\n",
              "    <tr style=\"text-align: right;\">\n",
              "      <th></th>\n",
              "      <th>Index</th>\n",
              "      <th>Initial Date</th>\n",
              "      <th>Final Date</th>\n",
              "      <th>Region</th>\n",
              "      <th>State</th>\n",
              "      <th>Product</th>\n",
              "      <th>Number of searches</th>\n",
              "      <th>Unit of Measurment</th>\n",
              "      <th>Mean Price</th>\n",
              "      <th>Default Price</th>\n",
              "      <th>...</th>\n",
              "      <th>Maximum Price</th>\n",
              "      <th>Mean Margin</th>\n",
              "      <th>Price Standar Deviation</th>\n",
              "      <th>Mean Price Distribution</th>\n",
              "      <th>Default Price Distribution</th>\n",
              "      <th>Minimum Price Distribution</th>\n",
              "      <th>Maximum Price Distribution</th>\n",
              "      <th>Distribution Standard Deviation</th>\n",
              "      <th>M Factor</th>\n",
              "      <th>Year</th>\n",
              "    </tr>\n",
              "  </thead>\n",
              "  <tbody>\n",
              "    <tr>\n",
              "      <th>0</th>\n",
              "      <td>0</td>\n",
              "      <td>2004-05-09</td>\n",
              "      <td>2004-05-15</td>\n",
              "      <td>CENTRO OESTE</td>\n",
              "      <td>DISTRITO FEDERAL</td>\n",
              "      <td>ETANOL HIDRATADO</td>\n",
              "      <td>127</td>\n",
              "      <td>R$/l</td>\n",
              "      <td>1.288</td>\n",
              "      <td>0.016</td>\n",
              "      <td>...</td>\n",
              "      <td>1.350</td>\n",
              "      <td>0.463</td>\n",
              "      <td>0.012</td>\n",
              "      <td>0.825</td>\n",
              "      <td>0.11</td>\n",
              "      <td>0.4201</td>\n",
              "      <td>0.9666</td>\n",
              "      <td>0.133</td>\n",
              "      <td>5</td>\n",
              "      <td>2004</td>\n",
              "    </tr>\n",
              "    <tr>\n",
              "      <th>1</th>\n",
              "      <td>1</td>\n",
              "      <td>2004-05-09</td>\n",
              "      <td>2004-05-15</td>\n",
              "      <td>CENTRO OESTE</td>\n",
              "      <td>GOIAS</td>\n",
              "      <td>ETANOL HIDRATADO</td>\n",
              "      <td>387</td>\n",
              "      <td>R$/l</td>\n",
              "      <td>1.162</td>\n",
              "      <td>0.114</td>\n",
              "      <td>...</td>\n",
              "      <td>1.449</td>\n",
              "      <td>0.399</td>\n",
              "      <td>0.098</td>\n",
              "      <td>0.763</td>\n",
              "      <td>0.088</td>\n",
              "      <td>0.5013</td>\n",
              "      <td>1.05</td>\n",
              "      <td>0.115</td>\n",
              "      <td>5</td>\n",
              "      <td>2004</td>\n",
              "    </tr>\n",
              "    <tr>\n",
              "      <th>2</th>\n",
              "      <td>2</td>\n",
              "      <td>2004-05-09</td>\n",
              "      <td>2004-05-15</td>\n",
              "      <td>CENTRO OESTE</td>\n",
              "      <td>MATO GROSSO</td>\n",
              "      <td>ETANOL HIDRATADO</td>\n",
              "      <td>192</td>\n",
              "      <td>R$/l</td>\n",
              "      <td>1.389</td>\n",
              "      <td>0.097</td>\n",
              "      <td>...</td>\n",
              "      <td>1.760</td>\n",
              "      <td>0.419</td>\n",
              "      <td>0.070</td>\n",
              "      <td>0.97</td>\n",
              "      <td>0.095</td>\n",
              "      <td>0.5614</td>\n",
              "      <td>1.161</td>\n",
              "      <td>0.098</td>\n",
              "      <td>5</td>\n",
              "      <td>2004</td>\n",
              "    </tr>\n",
              "    <tr>\n",
              "      <th>3</th>\n",
              "      <td>3</td>\n",
              "      <td>2004-05-09</td>\n",
              "      <td>2004-05-15</td>\n",
              "      <td>CENTRO OESTE</td>\n",
              "      <td>MATO GROSSO DO SUL</td>\n",
              "      <td>ETANOL HIDRATADO</td>\n",
              "      <td>162</td>\n",
              "      <td>R$/l</td>\n",
              "      <td>1.262</td>\n",
              "      <td>0.070</td>\n",
              "      <td>...</td>\n",
              "      <td>1.509</td>\n",
              "      <td>0.432</td>\n",
              "      <td>0.055</td>\n",
              "      <td>0.83</td>\n",
              "      <td>0.119</td>\n",
              "      <td>0.5991</td>\n",
              "      <td>1.22242</td>\n",
              "      <td>0.143</td>\n",
              "      <td>5</td>\n",
              "      <td>2004</td>\n",
              "    </tr>\n",
              "    <tr>\n",
              "      <th>4</th>\n",
              "      <td>4</td>\n",
              "      <td>2004-05-09</td>\n",
              "      <td>2004-05-15</td>\n",
              "      <td>NORDESTE</td>\n",
              "      <td>ALAGOAS</td>\n",
              "      <td>ETANOL HIDRATADO</td>\n",
              "      <td>103</td>\n",
              "      <td>R$/l</td>\n",
              "      <td>1.181</td>\n",
              "      <td>0.078</td>\n",
              "      <td>...</td>\n",
              "      <td>1.400</td>\n",
              "      <td>0.24</td>\n",
              "      <td>0.066</td>\n",
              "      <td>0.941</td>\n",
              "      <td>0.077</td>\n",
              "      <td>0.7441</td>\n",
              "      <td>1.0317</td>\n",
              "      <td>0.082</td>\n",
              "      <td>5</td>\n",
              "      <td>2004</td>\n",
              "    </tr>\n",
              "  </tbody>\n",
              "</table>\n",
              "<p>5 rows × 21 columns</p>\n",
              "</div>\n",
              "      <button class=\"colab-df-convert\" onclick=\"convertToInteractive('df-872608ee-da2a-4716-9315-1c06c68e7e96')\"\n",
              "              title=\"Convert this dataframe to an interactive table.\"\n",
              "              style=\"display:none;\">\n",
              "        \n",
              "  <svg xmlns=\"http://www.w3.org/2000/svg\" height=\"24px\"viewBox=\"0 0 24 24\"\n",
              "       width=\"24px\">\n",
              "    <path d=\"M0 0h24v24H0V0z\" fill=\"none\"/>\n",
              "    <path d=\"M18.56 5.44l.94 2.06.94-2.06 2.06-.94-2.06-.94-.94-2.06-.94 2.06-2.06.94zm-11 1L8.5 8.5l.94-2.06 2.06-.94-2.06-.94L8.5 2.5l-.94 2.06-2.06.94zm10 10l.94 2.06.94-2.06 2.06-.94-2.06-.94-.94-2.06-.94 2.06-2.06.94z\"/><path d=\"M17.41 7.96l-1.37-1.37c-.4-.4-.92-.59-1.43-.59-.52 0-1.04.2-1.43.59L10.3 9.45l-7.72 7.72c-.78.78-.78 2.05 0 2.83L4 21.41c.39.39.9.59 1.41.59.51 0 1.02-.2 1.41-.59l7.78-7.78 2.81-2.81c.8-.78.8-2.07 0-2.86zM5.41 20L4 18.59l7.72-7.72 1.47 1.35L5.41 20z\"/>\n",
              "  </svg>\n",
              "      </button>\n",
              "      \n",
              "  <style>\n",
              "    .colab-df-container {\n",
              "      display:flex;\n",
              "      flex-wrap:wrap;\n",
              "      gap: 12px;\n",
              "    }\n",
              "\n",
              "    .colab-df-convert {\n",
              "      background-color: #E8F0FE;\n",
              "      border: none;\n",
              "      border-radius: 50%;\n",
              "      cursor: pointer;\n",
              "      display: none;\n",
              "      fill: #1967D2;\n",
              "      height: 32px;\n",
              "      padding: 0 0 0 0;\n",
              "      width: 32px;\n",
              "    }\n",
              "\n",
              "    .colab-df-convert:hover {\n",
              "      background-color: #E2EBFA;\n",
              "      box-shadow: 0px 1px 2px rgba(60, 64, 67, 0.3), 0px 1px 3px 1px rgba(60, 64, 67, 0.15);\n",
              "      fill: #174EA6;\n",
              "    }\n",
              "\n",
              "    [theme=dark] .colab-df-convert {\n",
              "      background-color: #3B4455;\n",
              "      fill: #D2E3FC;\n",
              "    }\n",
              "\n",
              "    [theme=dark] .colab-df-convert:hover {\n",
              "      background-color: #434B5C;\n",
              "      box-shadow: 0px 1px 3px 1px rgba(0, 0, 0, 0.15);\n",
              "      filter: drop-shadow(0px 1px 2px rgba(0, 0, 0, 0.3));\n",
              "      fill: #FFFFFF;\n",
              "    }\n",
              "  </style>\n",
              "\n",
              "      <script>\n",
              "        const buttonEl =\n",
              "          document.querySelector('#df-872608ee-da2a-4716-9315-1c06c68e7e96 button.colab-df-convert');\n",
              "        buttonEl.style.display =\n",
              "          google.colab.kernel.accessAllowed ? 'block' : 'none';\n",
              "\n",
              "        async function convertToInteractive(key) {\n",
              "          const element = document.querySelector('#df-872608ee-da2a-4716-9315-1c06c68e7e96');\n",
              "          const dataTable =\n",
              "            await google.colab.kernel.invokeFunction('convertToInteractive',\n",
              "                                                     [key], {});\n",
              "          if (!dataTable) return;\n",
              "\n",
              "          const docLinkHtml = 'Like what you see? Visit the ' +\n",
              "            '<a target=\"_blank\" href=https://colab.research.google.com/notebooks/data_table.ipynb>data table notebook</a>'\n",
              "            + ' to learn more about interactive tables.';\n",
              "          element.innerHTML = '';\n",
              "          dataTable['output_type'] = 'display_data';\n",
              "          await google.colab.output.renderOutput(dataTable, element);\n",
              "          const docLink = document.createElement('div');\n",
              "          docLink.innerHTML = docLinkHtml;\n",
              "          element.appendChild(docLink);\n",
              "        }\n",
              "      </script>\n",
              "    </div>\n",
              "  </div>\n",
              "  "
            ]
          },
          "metadata": {},
          "execution_count": 6
        }
      ],
      "source": [
        "col_names = ['Index','Initial Date','Final Date','Region','State','Product','Number of searches','Unit of Measurment',\n",
        "           'Mean Price','Default Price','Minimum Price','Maximum Price','Mean Margin','Price Standar Deviation','Mean Price Distribution',\n",
        "           'Default Price Distribution','Minimum Price Distribution','Maximum Price Distribution','Distribution Standard Deviation',\n",
        "           'M Factor' ,'Year']\n",
        "\n",
        "data = pd.read_excel('/content/2004-2019.xls' , names = col_names)  \n",
        "\n",
        "data.head()"
      ]
    },
    {
      "cell_type": "markdown",
      "metadata": {
        "id": "61fI6ziyJ15g"
      },
      "source": [
        "How about the Shape ? "
      ]
    },
    {
      "cell_type": "code",
      "execution_count": null,
      "metadata": {
        "colab": {
          "base_uri": "https://localhost:8080/"
        },
        "id": "LA1OC969J15j",
        "outputId": "359944d3-d8a4-4b4c-d7ab-1284af1491ce"
      },
      "outputs": [
        {
          "output_type": "execute_result",
          "data": {
            "text/plain": [
              "(65534, 21)"
            ]
          },
          "metadata": {},
          "execution_count": 7
        }
      ],
      "source": [
        "data.shape"
      ]
    },
    {
      "cell_type": "markdown",
      "metadata": {
        "id": "xz14x6SUJ15v"
      },
      "source": [
        "since 'Index' will do nothing in the data , lets drop it"
      ]
    },
    {
      "cell_type": "code",
      "execution_count": null,
      "metadata": {
        "id": "LoZSlxSIJ15z"
      },
      "outputs": [],
      "source": [
        "data.drop(['Index'],axis=1, inplace=True)"
      ]
    },
    {
      "cell_type": "markdown",
      "metadata": {
        "id": "9e-14oOKJ159"
      },
      "source": [
        "then check data "
      ]
    },
    {
      "cell_type": "code",
      "execution_count": null,
      "metadata": {
        "colab": {
          "base_uri": "https://localhost:8080/",
          "height": 409
        },
        "id": "PYiiJu6yJ16B",
        "outputId": "0f461cd8-f704-4a35-9876-940e8b9b6153"
      },
      "outputs": [
        {
          "output_type": "execute_result",
          "data": {
            "text/plain": [
              "  Initial Date Final Date        Region               State           Product  \\\n",
              "0   2004-05-09 2004-05-15  CENTRO OESTE    DISTRITO FEDERAL  ETANOL HIDRATADO   \n",
              "1   2004-05-09 2004-05-15  CENTRO OESTE               GOIAS  ETANOL HIDRATADO   \n",
              "2   2004-05-09 2004-05-15  CENTRO OESTE         MATO GROSSO  ETANOL HIDRATADO   \n",
              "3   2004-05-09 2004-05-15  CENTRO OESTE  MATO GROSSO DO SUL  ETANOL HIDRATADO   \n",
              "4   2004-05-09 2004-05-15      NORDESTE             ALAGOAS  ETANOL HIDRATADO   \n",
              "\n",
              "   Number of searches Unit of Measurment  Mean Price  Default Price  \\\n",
              "0                 127               R$/l       1.288          0.016   \n",
              "1                 387               R$/l       1.162          0.114   \n",
              "2                 192               R$/l       1.389          0.097   \n",
              "3                 162               R$/l       1.262          0.070   \n",
              "4                 103               R$/l       1.181          0.078   \n",
              "\n",
              "   Minimum Price  Maximum Price Mean Margin  Price Standar Deviation  \\\n",
              "0           1.19          1.350       0.463                    0.012   \n",
              "1           0.89          1.449       0.399                    0.098   \n",
              "2           1.18          1.760       0.419                    0.070   \n",
              "3           1.09          1.509       0.432                    0.055   \n",
              "4           1.05          1.400        0.24                    0.066   \n",
              "\n",
              "  Mean Price Distribution Default Price Distribution  \\\n",
              "0                   0.825                       0.11   \n",
              "1                   0.763                      0.088   \n",
              "2                    0.97                      0.095   \n",
              "3                    0.83                      0.119   \n",
              "4                   0.941                      0.077   \n",
              "\n",
              "  Minimum Price Distribution Maximum Price Distribution  \\\n",
              "0                     0.4201                     0.9666   \n",
              "1                     0.5013                       1.05   \n",
              "2                     0.5614                      1.161   \n",
              "3                     0.5991                    1.22242   \n",
              "4                     0.7441                     1.0317   \n",
              "\n",
              "  Distribution Standard Deviation  M Factor  Year  \n",
              "0                           0.133         5  2004  \n",
              "1                           0.115         5  2004  \n",
              "2                           0.098         5  2004  \n",
              "3                           0.143         5  2004  \n",
              "4                           0.082         5  2004  "
            ],
            "text/html": [
              "\n",
              "  <div id=\"df-4dc2f13d-afc2-429a-a29b-60af57f6e5cc\">\n",
              "    <div class=\"colab-df-container\">\n",
              "      <div>\n",
              "<style scoped>\n",
              "    .dataframe tbody tr th:only-of-type {\n",
              "        vertical-align: middle;\n",
              "    }\n",
              "\n",
              "    .dataframe tbody tr th {\n",
              "        vertical-align: top;\n",
              "    }\n",
              "\n",
              "    .dataframe thead th {\n",
              "        text-align: right;\n",
              "    }\n",
              "</style>\n",
              "<table border=\"1\" class=\"dataframe\">\n",
              "  <thead>\n",
              "    <tr style=\"text-align: right;\">\n",
              "      <th></th>\n",
              "      <th>Initial Date</th>\n",
              "      <th>Final Date</th>\n",
              "      <th>Region</th>\n",
              "      <th>State</th>\n",
              "      <th>Product</th>\n",
              "      <th>Number of searches</th>\n",
              "      <th>Unit of Measurment</th>\n",
              "      <th>Mean Price</th>\n",
              "      <th>Default Price</th>\n",
              "      <th>Minimum Price</th>\n",
              "      <th>Maximum Price</th>\n",
              "      <th>Mean Margin</th>\n",
              "      <th>Price Standar Deviation</th>\n",
              "      <th>Mean Price Distribution</th>\n",
              "      <th>Default Price Distribution</th>\n",
              "      <th>Minimum Price Distribution</th>\n",
              "      <th>Maximum Price Distribution</th>\n",
              "      <th>Distribution Standard Deviation</th>\n",
              "      <th>M Factor</th>\n",
              "      <th>Year</th>\n",
              "    </tr>\n",
              "  </thead>\n",
              "  <tbody>\n",
              "    <tr>\n",
              "      <th>0</th>\n",
              "      <td>2004-05-09</td>\n",
              "      <td>2004-05-15</td>\n",
              "      <td>CENTRO OESTE</td>\n",
              "      <td>DISTRITO FEDERAL</td>\n",
              "      <td>ETANOL HIDRATADO</td>\n",
              "      <td>127</td>\n",
              "      <td>R$/l</td>\n",
              "      <td>1.288</td>\n",
              "      <td>0.016</td>\n",
              "      <td>1.19</td>\n",
              "      <td>1.350</td>\n",
              "      <td>0.463</td>\n",
              "      <td>0.012</td>\n",
              "      <td>0.825</td>\n",
              "      <td>0.11</td>\n",
              "      <td>0.4201</td>\n",
              "      <td>0.9666</td>\n",
              "      <td>0.133</td>\n",
              "      <td>5</td>\n",
              "      <td>2004</td>\n",
              "    </tr>\n",
              "    <tr>\n",
              "      <th>1</th>\n",
              "      <td>2004-05-09</td>\n",
              "      <td>2004-05-15</td>\n",
              "      <td>CENTRO OESTE</td>\n",
              "      <td>GOIAS</td>\n",
              "      <td>ETANOL HIDRATADO</td>\n",
              "      <td>387</td>\n",
              "      <td>R$/l</td>\n",
              "      <td>1.162</td>\n",
              "      <td>0.114</td>\n",
              "      <td>0.89</td>\n",
              "      <td>1.449</td>\n",
              "      <td>0.399</td>\n",
              "      <td>0.098</td>\n",
              "      <td>0.763</td>\n",
              "      <td>0.088</td>\n",
              "      <td>0.5013</td>\n",
              "      <td>1.05</td>\n",
              "      <td>0.115</td>\n",
              "      <td>5</td>\n",
              "      <td>2004</td>\n",
              "    </tr>\n",
              "    <tr>\n",
              "      <th>2</th>\n",
              "      <td>2004-05-09</td>\n",
              "      <td>2004-05-15</td>\n",
              "      <td>CENTRO OESTE</td>\n",
              "      <td>MATO GROSSO</td>\n",
              "      <td>ETANOL HIDRATADO</td>\n",
              "      <td>192</td>\n",
              "      <td>R$/l</td>\n",
              "      <td>1.389</td>\n",
              "      <td>0.097</td>\n",
              "      <td>1.18</td>\n",
              "      <td>1.760</td>\n",
              "      <td>0.419</td>\n",
              "      <td>0.070</td>\n",
              "      <td>0.97</td>\n",
              "      <td>0.095</td>\n",
              "      <td>0.5614</td>\n",
              "      <td>1.161</td>\n",
              "      <td>0.098</td>\n",
              "      <td>5</td>\n",
              "      <td>2004</td>\n",
              "    </tr>\n",
              "    <tr>\n",
              "      <th>3</th>\n",
              "      <td>2004-05-09</td>\n",
              "      <td>2004-05-15</td>\n",
              "      <td>CENTRO OESTE</td>\n",
              "      <td>MATO GROSSO DO SUL</td>\n",
              "      <td>ETANOL HIDRATADO</td>\n",
              "      <td>162</td>\n",
              "      <td>R$/l</td>\n",
              "      <td>1.262</td>\n",
              "      <td>0.070</td>\n",
              "      <td>1.09</td>\n",
              "      <td>1.509</td>\n",
              "      <td>0.432</td>\n",
              "      <td>0.055</td>\n",
              "      <td>0.83</td>\n",
              "      <td>0.119</td>\n",
              "      <td>0.5991</td>\n",
              "      <td>1.22242</td>\n",
              "      <td>0.143</td>\n",
              "      <td>5</td>\n",
              "      <td>2004</td>\n",
              "    </tr>\n",
              "    <tr>\n",
              "      <th>4</th>\n",
              "      <td>2004-05-09</td>\n",
              "      <td>2004-05-15</td>\n",
              "      <td>NORDESTE</td>\n",
              "      <td>ALAGOAS</td>\n",
              "      <td>ETANOL HIDRATADO</td>\n",
              "      <td>103</td>\n",
              "      <td>R$/l</td>\n",
              "      <td>1.181</td>\n",
              "      <td>0.078</td>\n",
              "      <td>1.05</td>\n",
              "      <td>1.400</td>\n",
              "      <td>0.24</td>\n",
              "      <td>0.066</td>\n",
              "      <td>0.941</td>\n",
              "      <td>0.077</td>\n",
              "      <td>0.7441</td>\n",
              "      <td>1.0317</td>\n",
              "      <td>0.082</td>\n",
              "      <td>5</td>\n",
              "      <td>2004</td>\n",
              "    </tr>\n",
              "  </tbody>\n",
              "</table>\n",
              "</div>\n",
              "      <button class=\"colab-df-convert\" onclick=\"convertToInteractive('df-4dc2f13d-afc2-429a-a29b-60af57f6e5cc')\"\n",
              "              title=\"Convert this dataframe to an interactive table.\"\n",
              "              style=\"display:none;\">\n",
              "        \n",
              "  <svg xmlns=\"http://www.w3.org/2000/svg\" height=\"24px\"viewBox=\"0 0 24 24\"\n",
              "       width=\"24px\">\n",
              "    <path d=\"M0 0h24v24H0V0z\" fill=\"none\"/>\n",
              "    <path d=\"M18.56 5.44l.94 2.06.94-2.06 2.06-.94-2.06-.94-.94-2.06-.94 2.06-2.06.94zm-11 1L8.5 8.5l.94-2.06 2.06-.94-2.06-.94L8.5 2.5l-.94 2.06-2.06.94zm10 10l.94 2.06.94-2.06 2.06-.94-2.06-.94-.94-2.06-.94 2.06-2.06.94z\"/><path d=\"M17.41 7.96l-1.37-1.37c-.4-.4-.92-.59-1.43-.59-.52 0-1.04.2-1.43.59L10.3 9.45l-7.72 7.72c-.78.78-.78 2.05 0 2.83L4 21.41c.39.39.9.59 1.41.59.51 0 1.02-.2 1.41-.59l7.78-7.78 2.81-2.81c.8-.78.8-2.07 0-2.86zM5.41 20L4 18.59l7.72-7.72 1.47 1.35L5.41 20z\"/>\n",
              "  </svg>\n",
              "      </button>\n",
              "      \n",
              "  <style>\n",
              "    .colab-df-container {\n",
              "      display:flex;\n",
              "      flex-wrap:wrap;\n",
              "      gap: 12px;\n",
              "    }\n",
              "\n",
              "    .colab-df-convert {\n",
              "      background-color: #E8F0FE;\n",
              "      border: none;\n",
              "      border-radius: 50%;\n",
              "      cursor: pointer;\n",
              "      display: none;\n",
              "      fill: #1967D2;\n",
              "      height: 32px;\n",
              "      padding: 0 0 0 0;\n",
              "      width: 32px;\n",
              "    }\n",
              "\n",
              "    .colab-df-convert:hover {\n",
              "      background-color: #E2EBFA;\n",
              "      box-shadow: 0px 1px 2px rgba(60, 64, 67, 0.3), 0px 1px 3px 1px rgba(60, 64, 67, 0.15);\n",
              "      fill: #174EA6;\n",
              "    }\n",
              "\n",
              "    [theme=dark] .colab-df-convert {\n",
              "      background-color: #3B4455;\n",
              "      fill: #D2E3FC;\n",
              "    }\n",
              "\n",
              "    [theme=dark] .colab-df-convert:hover {\n",
              "      background-color: #434B5C;\n",
              "      box-shadow: 0px 1px 3px 1px rgba(0, 0, 0, 0.15);\n",
              "      filter: drop-shadow(0px 1px 2px rgba(0, 0, 0, 0.3));\n",
              "      fill: #FFFFFF;\n",
              "    }\n",
              "  </style>\n",
              "\n",
              "      <script>\n",
              "        const buttonEl =\n",
              "          document.querySelector('#df-4dc2f13d-afc2-429a-a29b-60af57f6e5cc button.colab-df-convert');\n",
              "        buttonEl.style.display =\n",
              "          google.colab.kernel.accessAllowed ? 'block' : 'none';\n",
              "\n",
              "        async function convertToInteractive(key) {\n",
              "          const element = document.querySelector('#df-4dc2f13d-afc2-429a-a29b-60af57f6e5cc');\n",
              "          const dataTable =\n",
              "            await google.colab.kernel.invokeFunction('convertToInteractive',\n",
              "                                                     [key], {});\n",
              "          if (!dataTable) return;\n",
              "\n",
              "          const docLinkHtml = 'Like what you see? Visit the ' +\n",
              "            '<a target=\"_blank\" href=https://colab.research.google.com/notebooks/data_table.ipynb>data table notebook</a>'\n",
              "            + ' to learn more about interactive tables.';\n",
              "          element.innerHTML = '';\n",
              "          dataTable['output_type'] = 'display_data';\n",
              "          await google.colab.output.renderOutput(dataTable, element);\n",
              "          const docLink = document.createElement('div');\n",
              "          docLink.innerHTML = docLinkHtml;\n",
              "          element.appendChild(docLink);\n",
              "        }\n",
              "      </script>\n",
              "    </div>\n",
              "  </div>\n",
              "  "
            ]
          },
          "metadata": {},
          "execution_count": 9
        }
      ],
      "source": [
        "data.head()"
      ]
    },
    {
      "cell_type": "markdown",
      "metadata": {
        "id": "ygVWO3J8J16K"
      },
      "source": [
        "__________\n",
        "\n",
        "\n",
        "# Data Processing\n",
        "\n",
        "now we need to know more about he data, lets use describe tool"
      ]
    },
    {
      "cell_type": "code",
      "execution_count": null,
      "metadata": {
        "colab": {
          "base_uri": "https://localhost:8080/",
          "height": 362
        },
        "id": "O8ZpfC7iJ16N",
        "outputId": "128b0577-ac46-4e17-f68e-791abdfeb471"
      },
      "outputs": [
        {
          "output_type": "execute_result",
          "data": {
            "text/plain": [
              "       Number of searches    Mean Price  Default Price  Minimum Price  \\\n",
              "count        65534.000000  65534.000000   65534.000000   65534.000000   \n",
              "mean           276.064302      9.419979       0.500583       8.258743   \n",
              "std            459.770339     14.292417       0.884875      12.383575   \n",
              "min              1.000000      0.766000       0.000000       0.590000   \n",
              "25%             55.000000      1.863000       0.063000       1.740000   \n",
              "50%            119.000000      2.288000       0.099000       2.110000   \n",
              "75%            292.000000      2.852000       0.171000       2.689000   \n",
              "max           4167.000000     52.949000       7.042000      47.000000   \n",
              "\n",
              "       Maximum Price  Price Standar Deviation      M Factor          Year  \n",
              "count   65534.000000             65534.000000  65534.000000  65534.000000  \n",
              "mean       10.728551                 0.044842      6.509613   2008.929243  \n",
              "std        16.388597                 0.024480      3.474459      2.925159  \n",
              "min         0.999000                 0.000000      1.000000   2004.000000  \n",
              "25%         2.100000                 0.029000      3.000000   2006.000000  \n",
              "50%         2.580000                 0.041000      7.000000   2009.000000  \n",
              "75%         3.190000                 0.059000     10.000000   2012.000000  \n",
              "max        70.000000                 0.395000     12.000000   2014.000000  "
            ],
            "text/html": [
              "\n",
              "  <div id=\"df-ef851b3a-90e8-4698-88bb-ba175b4ac76e\">\n",
              "    <div class=\"colab-df-container\">\n",
              "      <div>\n",
              "<style scoped>\n",
              "    .dataframe tbody tr th:only-of-type {\n",
              "        vertical-align: middle;\n",
              "    }\n",
              "\n",
              "    .dataframe tbody tr th {\n",
              "        vertical-align: top;\n",
              "    }\n",
              "\n",
              "    .dataframe thead th {\n",
              "        text-align: right;\n",
              "    }\n",
              "</style>\n",
              "<table border=\"1\" class=\"dataframe\">\n",
              "  <thead>\n",
              "    <tr style=\"text-align: right;\">\n",
              "      <th></th>\n",
              "      <th>Number of searches</th>\n",
              "      <th>Mean Price</th>\n",
              "      <th>Default Price</th>\n",
              "      <th>Minimum Price</th>\n",
              "      <th>Maximum Price</th>\n",
              "      <th>Price Standar Deviation</th>\n",
              "      <th>M Factor</th>\n",
              "      <th>Year</th>\n",
              "    </tr>\n",
              "  </thead>\n",
              "  <tbody>\n",
              "    <tr>\n",
              "      <th>count</th>\n",
              "      <td>65534.000000</td>\n",
              "      <td>65534.000000</td>\n",
              "      <td>65534.000000</td>\n",
              "      <td>65534.000000</td>\n",
              "      <td>65534.000000</td>\n",
              "      <td>65534.000000</td>\n",
              "      <td>65534.000000</td>\n",
              "      <td>65534.000000</td>\n",
              "    </tr>\n",
              "    <tr>\n",
              "      <th>mean</th>\n",
              "      <td>276.064302</td>\n",
              "      <td>9.419979</td>\n",
              "      <td>0.500583</td>\n",
              "      <td>8.258743</td>\n",
              "      <td>10.728551</td>\n",
              "      <td>0.044842</td>\n",
              "      <td>6.509613</td>\n",
              "      <td>2008.929243</td>\n",
              "    </tr>\n",
              "    <tr>\n",
              "      <th>std</th>\n",
              "      <td>459.770339</td>\n",
              "      <td>14.292417</td>\n",
              "      <td>0.884875</td>\n",
              "      <td>12.383575</td>\n",
              "      <td>16.388597</td>\n",
              "      <td>0.024480</td>\n",
              "      <td>3.474459</td>\n",
              "      <td>2.925159</td>\n",
              "    </tr>\n",
              "    <tr>\n",
              "      <th>min</th>\n",
              "      <td>1.000000</td>\n",
              "      <td>0.766000</td>\n",
              "      <td>0.000000</td>\n",
              "      <td>0.590000</td>\n",
              "      <td>0.999000</td>\n",
              "      <td>0.000000</td>\n",
              "      <td>1.000000</td>\n",
              "      <td>2004.000000</td>\n",
              "    </tr>\n",
              "    <tr>\n",
              "      <th>25%</th>\n",
              "      <td>55.000000</td>\n",
              "      <td>1.863000</td>\n",
              "      <td>0.063000</td>\n",
              "      <td>1.740000</td>\n",
              "      <td>2.100000</td>\n",
              "      <td>0.029000</td>\n",
              "      <td>3.000000</td>\n",
              "      <td>2006.000000</td>\n",
              "    </tr>\n",
              "    <tr>\n",
              "      <th>50%</th>\n",
              "      <td>119.000000</td>\n",
              "      <td>2.288000</td>\n",
              "      <td>0.099000</td>\n",
              "      <td>2.110000</td>\n",
              "      <td>2.580000</td>\n",
              "      <td>0.041000</td>\n",
              "      <td>7.000000</td>\n",
              "      <td>2009.000000</td>\n",
              "    </tr>\n",
              "    <tr>\n",
              "      <th>75%</th>\n",
              "      <td>292.000000</td>\n",
              "      <td>2.852000</td>\n",
              "      <td>0.171000</td>\n",
              "      <td>2.689000</td>\n",
              "      <td>3.190000</td>\n",
              "      <td>0.059000</td>\n",
              "      <td>10.000000</td>\n",
              "      <td>2012.000000</td>\n",
              "    </tr>\n",
              "    <tr>\n",
              "      <th>max</th>\n",
              "      <td>4167.000000</td>\n",
              "      <td>52.949000</td>\n",
              "      <td>7.042000</td>\n",
              "      <td>47.000000</td>\n",
              "      <td>70.000000</td>\n",
              "      <td>0.395000</td>\n",
              "      <td>12.000000</td>\n",
              "      <td>2014.000000</td>\n",
              "    </tr>\n",
              "  </tbody>\n",
              "</table>\n",
              "</div>\n",
              "      <button class=\"colab-df-convert\" onclick=\"convertToInteractive('df-ef851b3a-90e8-4698-88bb-ba175b4ac76e')\"\n",
              "              title=\"Convert this dataframe to an interactive table.\"\n",
              "              style=\"display:none;\">\n",
              "        \n",
              "  <svg xmlns=\"http://www.w3.org/2000/svg\" height=\"24px\"viewBox=\"0 0 24 24\"\n",
              "       width=\"24px\">\n",
              "    <path d=\"M0 0h24v24H0V0z\" fill=\"none\"/>\n",
              "    <path d=\"M18.56 5.44l.94 2.06.94-2.06 2.06-.94-2.06-.94-.94-2.06-.94 2.06-2.06.94zm-11 1L8.5 8.5l.94-2.06 2.06-.94-2.06-.94L8.5 2.5l-.94 2.06-2.06.94zm10 10l.94 2.06.94-2.06 2.06-.94-2.06-.94-.94-2.06-.94 2.06-2.06.94z\"/><path d=\"M17.41 7.96l-1.37-1.37c-.4-.4-.92-.59-1.43-.59-.52 0-1.04.2-1.43.59L10.3 9.45l-7.72 7.72c-.78.78-.78 2.05 0 2.83L4 21.41c.39.39.9.59 1.41.59.51 0 1.02-.2 1.41-.59l7.78-7.78 2.81-2.81c.8-.78.8-2.07 0-2.86zM5.41 20L4 18.59l7.72-7.72 1.47 1.35L5.41 20z\"/>\n",
              "  </svg>\n",
              "      </button>\n",
              "      \n",
              "  <style>\n",
              "    .colab-df-container {\n",
              "      display:flex;\n",
              "      flex-wrap:wrap;\n",
              "      gap: 12px;\n",
              "    }\n",
              "\n",
              "    .colab-df-convert {\n",
              "      background-color: #E8F0FE;\n",
              "      border: none;\n",
              "      border-radius: 50%;\n",
              "      cursor: pointer;\n",
              "      display: none;\n",
              "      fill: #1967D2;\n",
              "      height: 32px;\n",
              "      padding: 0 0 0 0;\n",
              "      width: 32px;\n",
              "    }\n",
              "\n",
              "    .colab-df-convert:hover {\n",
              "      background-color: #E2EBFA;\n",
              "      box-shadow: 0px 1px 2px rgba(60, 64, 67, 0.3), 0px 1px 3px 1px rgba(60, 64, 67, 0.15);\n",
              "      fill: #174EA6;\n",
              "    }\n",
              "\n",
              "    [theme=dark] .colab-df-convert {\n",
              "      background-color: #3B4455;\n",
              "      fill: #D2E3FC;\n",
              "    }\n",
              "\n",
              "    [theme=dark] .colab-df-convert:hover {\n",
              "      background-color: #434B5C;\n",
              "      box-shadow: 0px 1px 3px 1px rgba(0, 0, 0, 0.15);\n",
              "      filter: drop-shadow(0px 1px 2px rgba(0, 0, 0, 0.3));\n",
              "      fill: #FFFFFF;\n",
              "    }\n",
              "  </style>\n",
              "\n",
              "      <script>\n",
              "        const buttonEl =\n",
              "          document.querySelector('#df-ef851b3a-90e8-4698-88bb-ba175b4ac76e button.colab-df-convert');\n",
              "        buttonEl.style.display =\n",
              "          google.colab.kernel.accessAllowed ? 'block' : 'none';\n",
              "\n",
              "        async function convertToInteractive(key) {\n",
              "          const element = document.querySelector('#df-ef851b3a-90e8-4698-88bb-ba175b4ac76e');\n",
              "          const dataTable =\n",
              "            await google.colab.kernel.invokeFunction('convertToInteractive',\n",
              "                                                     [key], {});\n",
              "          if (!dataTable) return;\n",
              "\n",
              "          const docLinkHtml = 'Like what you see? Visit the ' +\n",
              "            '<a target=\"_blank\" href=https://colab.research.google.com/notebooks/data_table.ipynb>data table notebook</a>'\n",
              "            + ' to learn more about interactive tables.';\n",
              "          element.innerHTML = '';\n",
              "          dataTable['output_type'] = 'display_data';\n",
              "          await google.colab.output.renderOutput(dataTable, element);\n",
              "          const docLink = document.createElement('div');\n",
              "          docLink.innerHTML = docLinkHtml;\n",
              "          element.appendChild(docLink);\n",
              "        }\n",
              "      </script>\n",
              "    </div>\n",
              "  </div>\n",
              "  "
            ]
          },
          "metadata": {},
          "execution_count": 10
        }
      ],
      "source": [
        "data.describe()"
      ]
    },
    {
      "cell_type": "markdown",
      "metadata": {
        "id": "hbqiY_wqJ16Y"
      },
      "source": [
        "it`s clear that python will not calculate categorical data , only numerical values ,  also it looks we need to standrardize the numbers , but this will be done later\n",
        "\n",
        "now lets check the types of features & to check if it contain nulls"
      ]
    },
    {
      "cell_type": "code",
      "execution_count": null,
      "metadata": {
        "colab": {
          "base_uri": "https://localhost:8080/"
        },
        "id": "rx8lDviUJ16b",
        "outputId": "d8171f5d-1e14-409e-bdee-f8b17423a423"
      },
      "outputs": [
        {
          "output_type": "stream",
          "name": "stdout",
          "text": [
            "<class 'pandas.core.frame.DataFrame'>\n",
            "RangeIndex: 65534 entries, 0 to 65533\n",
            "Data columns (total 20 columns):\n",
            " #   Column                           Non-Null Count  Dtype         \n",
            "---  ------                           --------------  -----         \n",
            " 0   Initial Date                     65534 non-null  datetime64[ns]\n",
            " 1   Final Date                       65534 non-null  datetime64[ns]\n",
            " 2   Region                           65534 non-null  object        \n",
            " 3   State                            65534 non-null  object        \n",
            " 4   Product                          65534 non-null  object        \n",
            " 5   Number of searches               65534 non-null  int64         \n",
            " 6   Unit of Measurment               65534 non-null  object        \n",
            " 7   Mean Price                       65534 non-null  float64       \n",
            " 8   Default Price                    65534 non-null  float64       \n",
            " 9   Minimum Price                    65534 non-null  float64       \n",
            " 10  Maximum Price                    65534 non-null  float64       \n",
            " 11  Mean Margin                      65534 non-null  object        \n",
            " 12  Price Standar Deviation          65534 non-null  float64       \n",
            " 13  Mean Price Distribution          65534 non-null  object        \n",
            " 14  Default Price Distribution       65534 non-null  object        \n",
            " 15  Minimum Price Distribution       65534 non-null  object        \n",
            " 16  Maximum Price Distribution       65534 non-null  object        \n",
            " 17  Distribution Standard Deviation  65534 non-null  object        \n",
            " 18  M Factor                         65534 non-null  int64         \n",
            " 19  Year                             65534 non-null  int64         \n",
            "dtypes: datetime64[ns](2), float64(5), int64(3), object(10)\n",
            "memory usage: 10.0+ MB\n"
          ]
        }
      ],
      "source": [
        "data.info()"
      ]
    },
    {
      "cell_type": "markdown",
      "metadata": {
        "id": "wFkSEI04J16p"
      },
      "source": [
        "________\n",
        "\n",
        "we`re lucky to have no Null data , but it looks that several features its type is (object) . which might contain letters & numbers together \n",
        "\n",
        "\n",
        "lets first check 'Mean Margin' feature , which written here as Object , instead of float64\n"
      ]
    },
    {
      "cell_type": "code",
      "execution_count": null,
      "metadata": {
        "colab": {
          "base_uri": "https://localhost:8080/"
        },
        "id": "deOrMhVKJ162",
        "outputId": "7a88361d-ce9e-43b1-f94e-d98b52fbf3d4"
      },
      "outputs": [
        {
          "output_type": "execute_result",
          "data": {
            "text/plain": [
              "0        0.463\n",
              "1        0.399\n",
              "2        0.419\n",
              "3        0.432\n",
              "4         0.24\n",
              "         ...  \n",
              "65529    0.142\n",
              "65530    0.304\n",
              "65531    0.341\n",
              "65532     0.25\n",
              "65533    0.267\n",
              "Name: Mean Margin, Length: 65534, dtype: object"
            ]
          },
          "metadata": {},
          "execution_count": 12
        }
      ],
      "source": [
        "data['Mean Margin']"
      ]
    },
    {
      "cell_type": "markdown",
      "metadata": {
        "id": "p8ulgJHOJ17A"
      },
      "source": [
        "________\n",
        "\n",
        "it looks that some rows contain (-) which might refer to the null value , lets see how many (-) exists\n"
      ]
    },
    {
      "cell_type": "code",
      "execution_count": null,
      "metadata": {
        "colab": {
          "base_uri": "https://localhost:8080/"
        },
        "id": "dhuNg3uZJ17C",
        "outputId": "e526703b-b2f8-418c-c2e3-1137c30bb5c9"
      },
      "outputs": [
        {
          "output_type": "stream",
          "name": "stdout",
          "text": [
            "There is 1493 null value here\n"
          ]
        }
      ],
      "source": [
        "n = 0\n",
        "for i in range(data.shape[0]) : \n",
        "    if str(data['Mean Margin'][i]) == '-' : \n",
        "        n+=1\n",
        "\n",
        "print('There is {} null value here'.format(n))\n",
        "    "
      ]
    },
    {
      "cell_type": "markdown",
      "metadata": {
        "id": "KzjW6TmvJ17L"
      },
      "source": [
        "______\n",
        "\n",
        "around 1500 null value in Mean Margin only , so lets use simple equation to fill the nulls"
      ]
    },
    {
      "cell_type": "code",
      "execution_count": null,
      "metadata": {
        "colab": {
          "base_uri": "https://localhost:8080/"
        },
        "id": "mxz6yKuIJ17O",
        "outputId": "1921d625-d38f-4ddf-9201-df3733e98778"
      },
      "outputs": [
        {
          "output_type": "stream",
          "name": "stdout",
          "text": [
            "the mean is 1.7522229353070857\n"
          ]
        },
        {
          "output_type": "stream",
          "name": "stderr",
          "text": [
            "<ipython-input-14-7e33a4ec58d1>:15: SettingWithCopyWarning: \n",
            "A value is trying to be set on a copy of a slice from a DataFrame\n",
            "\n",
            "See the caveats in the documentation: https://pandas.pydata.org/pandas-docs/stable/user_guide/indexing.html#returning-a-view-versus-a-copy\n",
            "  data['Mean Margin'][i] = the_mean\n"
          ]
        }
      ],
      "source": [
        "summ = 0\n",
        "n = 0\n",
        "\n",
        "for i in range(data.shape[0]) : \n",
        "    if not str(data['Mean Margin'][i]) == '-' : \n",
        "        summ += float(data['Mean Margin'][i])\n",
        "        n+=1\n",
        "\n",
        "the_mean = summ/ n\n",
        "\n",
        "print('the mean is {}'.format(the_mean))\n",
        "\n",
        "for i in range(data.shape[0]) : \n",
        "    if str(data['Mean Margin'][i]) == '-' : \n",
        "      data['Mean Margin'][i] = the_mean\n",
        "        \n"
      ]
    },
    {
      "cell_type": "markdown",
      "metadata": {
        "id": "SLy-pJ9HJ17Y"
      },
      "source": [
        "_____\n",
        "\n",
        "now lets check if there is any nulls exists"
      ]
    },
    {
      "cell_type": "code",
      "execution_count": null,
      "metadata": {
        "colab": {
          "base_uri": "https://localhost:8080/"
        },
        "id": "rD2RmCxmJ17b",
        "outputId": "fb8f5952-a2fb-46e7-ace7-3cfec3549973"
      },
      "outputs": [
        {
          "output_type": "stream",
          "name": "stdout",
          "text": [
            "There is 0 null value here\n"
          ]
        }
      ],
      "source": [
        "n = 0\n",
        "for i in range(data.shape[0]) : \n",
        "    if str(data['Mean Margin'][i]) == '-' : \n",
        "        n+=1\n",
        "\n",
        "print('There is {} null value here'.format(n))"
      ]
    },
    {
      "cell_type": "markdown",
      "metadata": {
        "id": "uWxhFzPdJ17k"
      },
      "source": [
        "___________\n",
        "\n",
        "\n",
        "great . now lets check if it become \"float64\" or not yet \n"
      ]
    },
    {
      "cell_type": "code",
      "execution_count": null,
      "metadata": {
        "colab": {
          "base_uri": "https://localhost:8080/"
        },
        "id": "F7vHf17VJ17o",
        "outputId": "f3726804-d1d9-4a12-9cf1-7c10c7ad3e5f"
      },
      "outputs": [
        {
          "output_type": "stream",
          "name": "stdout",
          "text": [
            "<class 'pandas.core.frame.DataFrame'>\n",
            "RangeIndex: 65534 entries, 0 to 65533\n",
            "Data columns (total 20 columns):\n",
            " #   Column                           Non-Null Count  Dtype         \n",
            "---  ------                           --------------  -----         \n",
            " 0   Initial Date                     65534 non-null  datetime64[ns]\n",
            " 1   Final Date                       65534 non-null  datetime64[ns]\n",
            " 2   Region                           65534 non-null  object        \n",
            " 3   State                            65534 non-null  object        \n",
            " 4   Product                          65534 non-null  object        \n",
            " 5   Number of searches               65534 non-null  int64         \n",
            " 6   Unit of Measurment               65534 non-null  object        \n",
            " 7   Mean Price                       65534 non-null  float64       \n",
            " 8   Default Price                    65534 non-null  float64       \n",
            " 9   Minimum Price                    65534 non-null  float64       \n",
            " 10  Maximum Price                    65534 non-null  float64       \n",
            " 11  Mean Margin                      65534 non-null  object        \n",
            " 12  Price Standar Deviation          65534 non-null  float64       \n",
            " 13  Mean Price Distribution          65534 non-null  object        \n",
            " 14  Default Price Distribution       65534 non-null  object        \n",
            " 15  Minimum Price Distribution       65534 non-null  object        \n",
            " 16  Maximum Price Distribution       65534 non-null  object        \n",
            " 17  Distribution Standard Deviation  65534 non-null  object        \n",
            " 18  M Factor                         65534 non-null  int64         \n",
            " 19  Year                             65534 non-null  int64         \n",
            "dtypes: datetime64[ns](2), float64(5), int64(3), object(10)\n",
            "memory usage: 10.0+ MB\n"
          ]
        }
      ],
      "source": [
        "data.info()"
      ]
    },
    {
      "cell_type": "markdown",
      "metadata": {
        "id": "ug-z8zxtJ170"
      },
      "source": [
        "________\n",
        "\n",
        "although it's still written here as object , let's check if any cell contain non-numbers here\n",
        "\n",
        "\n"
      ]
    },
    {
      "cell_type": "code",
      "execution_count": null,
      "metadata": {
        "colab": {
          "base_uri": "https://localhost:8080/"
        },
        "id": "TNCEFDdKJ173",
        "outputId": "d481eea1-04d8-4f15-93f3-479bc007fad6"
      },
      "outputs": [
        {
          "output_type": "stream",
          "name": "stdout",
          "text": [
            "There is 0 cell with zero value\n"
          ]
        }
      ],
      "source": [
        "n = 0\n",
        "for i in range(data.shape[0]) : \n",
        "    if float(data['Mean Margin'][i]) == 0 : \n",
        "        n+=1\n",
        "\n",
        "print('There is {} cell with zero value'.format(n))"
      ]
    },
    {
      "cell_type": "markdown",
      "metadata": {
        "id": "i-kA724bJ18B"
      },
      "source": [
        "_____\n",
        "\n",
        "great , now lets repeat the same step in other non-categorical features which written as \"Object\" ,like  : \n",
        "\n",
        "Mean Price Distribution            \n",
        "Default Price Distribution         \n",
        "Minimum Price Distribution         \n",
        "Maximum Price Distribution         \n",
        "Distribution Standard Deviation    "
      ]
    },
    {
      "cell_type": "code",
      "execution_count": null,
      "metadata": {
        "colab": {
          "base_uri": "https://localhost:8080/"
        },
        "id": "WZcOSdO-J18F",
        "outputId": "7f4ffc4d-dd4c-4493-e4e5-6a61207ece2a"
      },
      "outputs": [
        {
          "output_type": "stream",
          "name": "stdout",
          "text": [
            "There is 1471 null value here\n",
            "There is 1471 null value here\n",
            "There is 1471 null value here\n",
            "There is 1471 null value here\n",
            "There is 1471 null value here\n"
          ]
        }
      ],
      "source": [
        "a = b = c= d = e  = 0\n",
        "for i in range(data.shape[0]) : \n",
        "    if str(data['Mean Price Distribution'][i]) == '-' : \n",
        "        a+=1\n",
        "    if str(data['Default Price Distribution'][i]) == '-' : \n",
        "        b+=1\n",
        "    if str(data['Minimum Price Distribution'][i]) == '-' : \n",
        "        c+=1\n",
        "    if str(data['Maximum Price Distribution'][i]) == '-' : \n",
        "        d+=1\n",
        "    if str(data['Distribution Standard Deviation'][i]) == '-' :  \n",
        "        e+=1\n",
        "\n",
        "print('There is {} null value here'.format(a))\n",
        "print('There is {} null value here'.format(b))\n",
        "print('There is {} null value here'.format(c))                \n",
        "print('There is {} null value here'.format(d))\n",
        "print('There is {} null value here'.format(e))                \n",
        "    "
      ]
    },
    {
      "cell_type": "markdown",
      "metadata": {
        "id": "c-apBFL0J18T"
      },
      "source": [
        "______\n",
        "\n",
        "Then lets make the mean in those cells in the same way  (this might take few mins)"
      ]
    },
    {
      "cell_type": "code",
      "execution_count": null,
      "metadata": {
        "colab": {
          "base_uri": "https://localhost:8080/"
        },
        "id": "YOoOnM_LJ18W",
        "outputId": "c79aaae3-af50-4c31-d168-570395655785"
      },
      "outputs": [
        {
          "output_type": "stream",
          "name": "stderr",
          "text": [
            "<ipython-input-19-605788b83007>:31: SettingWithCopyWarning: \n",
            "A value is trying to be set on a copy of a slice from a DataFrame\n",
            "\n",
            "See the caveats in the documentation: https://pandas.pydata.org/pandas-docs/stable/user_guide/indexing.html#returning-a-view-versus-a-copy\n",
            "  data['Mean Price Distribution'][i] = a_mean\n",
            "<ipython-input-19-605788b83007>:34: SettingWithCopyWarning: \n",
            "A value is trying to be set on a copy of a slice from a DataFrame\n",
            "\n",
            "See the caveats in the documentation: https://pandas.pydata.org/pandas-docs/stable/user_guide/indexing.html#returning-a-view-versus-a-copy\n",
            "  data['Default Price Distribution'][i] = b_mean\n",
            "<ipython-input-19-605788b83007>:37: SettingWithCopyWarning: \n",
            "A value is trying to be set on a copy of a slice from a DataFrame\n",
            "\n",
            "See the caveats in the documentation: https://pandas.pydata.org/pandas-docs/stable/user_guide/indexing.html#returning-a-view-versus-a-copy\n",
            "  data['Minimum Price Distribution'][i] = c_mean\n",
            "<ipython-input-19-605788b83007>:40: SettingWithCopyWarning: \n",
            "A value is trying to be set on a copy of a slice from a DataFrame\n",
            "\n",
            "See the caveats in the documentation: https://pandas.pydata.org/pandas-docs/stable/user_guide/indexing.html#returning-a-view-versus-a-copy\n",
            "  data['Maximum Price Distribution'][i] = d_mean\n",
            "<ipython-input-19-605788b83007>:43: SettingWithCopyWarning: \n",
            "A value is trying to be set on a copy of a slice from a DataFrame\n",
            "\n",
            "See the caveats in the documentation: https://pandas.pydata.org/pandas-docs/stable/user_guide/indexing.html#returning-a-view-versus-a-copy\n",
            "  data['Distribution Standard Deviation'][i] = e_mean\n"
          ]
        }
      ],
      "source": [
        "a_summ = b_summ = c_summ = d_summ = e_summ = 0\n",
        "n = 1471\n",
        "\n",
        "for i in range(data.shape[0]) : \n",
        "    if not str(data['Mean Price Distribution'][i]) == '-' : \n",
        "        a_summ += float(data['Mean Price Distribution'][i])\n",
        "        \n",
        "    if not str(data['Default Price Distribution'][i]) == '-' : \n",
        "        b_summ += float(data['Default Price Distribution'][i])\n",
        "\n",
        "    if not str(data['Minimum Price Distribution'][i]) == '-' : \n",
        "        c_summ += float(data['Minimum Price Distribution'][i])\n",
        "        \n",
        "    if not str(data['Maximum Price Distribution'][i]) == '-' : \n",
        "        d_summ += float(data['Maximum Price Distribution'][i])\n",
        "        \n",
        "    if not str(data['Distribution Standard Deviation'][i]) == '-' : \n",
        "        e_summ += float(data['Distribution Standard Deviation'][i])\n",
        "        \n",
        "\n",
        "      \n",
        "        \n",
        "a_mean = a_summ/ n\n",
        "b_mean = b_summ/ n\n",
        "c_mean = c_summ/ n\n",
        "d_mean = d_summ/ n\n",
        "e_mean = e_summ/ n\n",
        "\n",
        "for i in range(data.shape[0]) : \n",
        "    if str(data['Mean Price Distribution'][i]) == '-' : \n",
        "        data['Mean Price Distribution'][i] = a_mean\n",
        "\n",
        "    if str(data['Default Price Distribution'][i]) == '-' : \n",
        "        data['Default Price Distribution'][i] = b_mean\n",
        "        \n",
        "    if str(data['Minimum Price Distribution'][i]) == '-' : \n",
        "        data['Minimum Price Distribution'][i] = c_mean\n",
        "        \n",
        "    if str(data['Maximum Price Distribution'][i]) == '-' : \n",
        "        data['Maximum Price Distribution'][i] = d_mean\n",
        "    \n",
        "    if str(data['Distribution Standard Deviation'][i]) == '-' : \n",
        "        data['Distribution Standard Deviation'][i] = e_mean\n",
        "        \n",
        "\n",
        "\n",
        "\n",
        "        "
      ]
    },
    {
      "cell_type": "markdown",
      "metadata": {
        "id": "yiqG0o3gJ18j"
      },
      "source": [
        "____________________\n",
        "\n",
        "# Categorical Features\n",
        "\n",
        "now lets move to convert Categorical features , into numerical values , so we can enter them in the model\n",
        "\n",
        "we have 4 Categorical features , which are : \n",
        "\n",
        "Region  ,  State    ,   Product    ,   Unit of Measurment\n",
        "\n",
        "\n",
        "so in each feature , we'll check unique values , then convert it using dictionary & map fucntion , in a new column , and them drop the original column\n",
        "\n",
        "let's start with Region : \n"
      ]
    },
    {
      "cell_type": "code",
      "execution_count": null,
      "metadata": {
        "colab": {
          "base_uri": "https://localhost:8080/"
        },
        "id": "TsWgPBLRJ18r",
        "outputId": "d8364fa7-8d48-4be4-8a27-d428d268e969"
      },
      "outputs": [
        {
          "output_type": "execute_result",
          "data": {
            "text/plain": [
              "array(['CENTRO OESTE', 'NORDESTE', 'NORTE', 'SUDESTE', 'SUL'],\n",
              "      dtype=object)"
            ]
          },
          "metadata": {},
          "execution_count": 20
        }
      ],
      "source": [
        "data['Region'].unique()"
      ]
    },
    {
      "cell_type": "code",
      "execution_count": null,
      "metadata": {
        "id": "QyoUF9HHJ19D"
      },
      "outputs": [],
      "source": [
        "Region_dict = {'CENTRO OESTE': 0,'NORDESTE':1, 'NORTE':2, 'SUDESTE':3, 'SUL':4}\n",
        "data['Region Code'] = data['Region'].map(Region_dict)\n",
        "\n",
        "data.drop(['Region'],axis=1, inplace=True)\n"
      ]
    },
    {
      "cell_type": "markdown",
      "metadata": {
        "id": "1YuovX0AJ19R"
      },
      "source": [
        "\n",
        "\n",
        "now lets check the data itsself \n"
      ]
    },
    {
      "cell_type": "code",
      "execution_count": null,
      "metadata": {
        "colab": {
          "base_uri": "https://localhost:8080/",
          "height": 409
        },
        "id": "QHcN6C8qJ19U",
        "outputId": "ad7ad118-1be4-4166-d86f-590f69ffc038"
      },
      "outputs": [
        {
          "output_type": "execute_result",
          "data": {
            "text/plain": [
              "  Initial Date Final Date               State           Product  \\\n",
              "0   2004-05-09 2004-05-15    DISTRITO FEDERAL  ETANOL HIDRATADO   \n",
              "1   2004-05-09 2004-05-15               GOIAS  ETANOL HIDRATADO   \n",
              "2   2004-05-09 2004-05-15         MATO GROSSO  ETANOL HIDRATADO   \n",
              "3   2004-05-09 2004-05-15  MATO GROSSO DO SUL  ETANOL HIDRATADO   \n",
              "4   2004-05-09 2004-05-15             ALAGOAS  ETANOL HIDRATADO   \n",
              "\n",
              "   Number of searches Unit of Measurment  Mean Price  Default Price  \\\n",
              "0                 127               R$/l       1.288          0.016   \n",
              "1                 387               R$/l       1.162          0.114   \n",
              "2                 192               R$/l       1.389          0.097   \n",
              "3                 162               R$/l       1.262          0.070   \n",
              "4                 103               R$/l       1.181          0.078   \n",
              "\n",
              "   Minimum Price  Maximum Price Mean Margin  Price Standar Deviation  \\\n",
              "0           1.19          1.350       0.463                    0.012   \n",
              "1           0.89          1.449       0.399                    0.098   \n",
              "2           1.18          1.760       0.419                    0.070   \n",
              "3           1.09          1.509       0.432                    0.055   \n",
              "4           1.05          1.400        0.24                    0.066   \n",
              "\n",
              "  Mean Price Distribution Default Price Distribution  \\\n",
              "0                   0.825                       0.11   \n",
              "1                   0.763                      0.088   \n",
              "2                    0.97                      0.095   \n",
              "3                    0.83                      0.119   \n",
              "4                   0.941                      0.077   \n",
              "\n",
              "  Minimum Price Distribution Maximum Price Distribution  \\\n",
              "0                     0.4201                     0.9666   \n",
              "1                     0.5013                       1.05   \n",
              "2                     0.5614                      1.161   \n",
              "3                     0.5991                    1.22242   \n",
              "4                     0.7441                     1.0317   \n",
              "\n",
              "  Distribution Standard Deviation  M Factor  Year  Region Code  \n",
              "0                           0.133         5  2004            0  \n",
              "1                           0.115         5  2004            0  \n",
              "2                           0.098         5  2004            0  \n",
              "3                           0.143         5  2004            0  \n",
              "4                           0.082         5  2004            1  "
            ],
            "text/html": [
              "\n",
              "  <div id=\"df-f2c95a19-c8e5-4af8-b351-a5d9ee1ac83c\">\n",
              "    <div class=\"colab-df-container\">\n",
              "      <div>\n",
              "<style scoped>\n",
              "    .dataframe tbody tr th:only-of-type {\n",
              "        vertical-align: middle;\n",
              "    }\n",
              "\n",
              "    .dataframe tbody tr th {\n",
              "        vertical-align: top;\n",
              "    }\n",
              "\n",
              "    .dataframe thead th {\n",
              "        text-align: right;\n",
              "    }\n",
              "</style>\n",
              "<table border=\"1\" class=\"dataframe\">\n",
              "  <thead>\n",
              "    <tr style=\"text-align: right;\">\n",
              "      <th></th>\n",
              "      <th>Initial Date</th>\n",
              "      <th>Final Date</th>\n",
              "      <th>State</th>\n",
              "      <th>Product</th>\n",
              "      <th>Number of searches</th>\n",
              "      <th>Unit of Measurment</th>\n",
              "      <th>Mean Price</th>\n",
              "      <th>Default Price</th>\n",
              "      <th>Minimum Price</th>\n",
              "      <th>Maximum Price</th>\n",
              "      <th>Mean Margin</th>\n",
              "      <th>Price Standar Deviation</th>\n",
              "      <th>Mean Price Distribution</th>\n",
              "      <th>Default Price Distribution</th>\n",
              "      <th>Minimum Price Distribution</th>\n",
              "      <th>Maximum Price Distribution</th>\n",
              "      <th>Distribution Standard Deviation</th>\n",
              "      <th>M Factor</th>\n",
              "      <th>Year</th>\n",
              "      <th>Region Code</th>\n",
              "    </tr>\n",
              "  </thead>\n",
              "  <tbody>\n",
              "    <tr>\n",
              "      <th>0</th>\n",
              "      <td>2004-05-09</td>\n",
              "      <td>2004-05-15</td>\n",
              "      <td>DISTRITO FEDERAL</td>\n",
              "      <td>ETANOL HIDRATADO</td>\n",
              "      <td>127</td>\n",
              "      <td>R$/l</td>\n",
              "      <td>1.288</td>\n",
              "      <td>0.016</td>\n",
              "      <td>1.19</td>\n",
              "      <td>1.350</td>\n",
              "      <td>0.463</td>\n",
              "      <td>0.012</td>\n",
              "      <td>0.825</td>\n",
              "      <td>0.11</td>\n",
              "      <td>0.4201</td>\n",
              "      <td>0.9666</td>\n",
              "      <td>0.133</td>\n",
              "      <td>5</td>\n",
              "      <td>2004</td>\n",
              "      <td>0</td>\n",
              "    </tr>\n",
              "    <tr>\n",
              "      <th>1</th>\n",
              "      <td>2004-05-09</td>\n",
              "      <td>2004-05-15</td>\n",
              "      <td>GOIAS</td>\n",
              "      <td>ETANOL HIDRATADO</td>\n",
              "      <td>387</td>\n",
              "      <td>R$/l</td>\n",
              "      <td>1.162</td>\n",
              "      <td>0.114</td>\n",
              "      <td>0.89</td>\n",
              "      <td>1.449</td>\n",
              "      <td>0.399</td>\n",
              "      <td>0.098</td>\n",
              "      <td>0.763</td>\n",
              "      <td>0.088</td>\n",
              "      <td>0.5013</td>\n",
              "      <td>1.05</td>\n",
              "      <td>0.115</td>\n",
              "      <td>5</td>\n",
              "      <td>2004</td>\n",
              "      <td>0</td>\n",
              "    </tr>\n",
              "    <tr>\n",
              "      <th>2</th>\n",
              "      <td>2004-05-09</td>\n",
              "      <td>2004-05-15</td>\n",
              "      <td>MATO GROSSO</td>\n",
              "      <td>ETANOL HIDRATADO</td>\n",
              "      <td>192</td>\n",
              "      <td>R$/l</td>\n",
              "      <td>1.389</td>\n",
              "      <td>0.097</td>\n",
              "      <td>1.18</td>\n",
              "      <td>1.760</td>\n",
              "      <td>0.419</td>\n",
              "      <td>0.070</td>\n",
              "      <td>0.97</td>\n",
              "      <td>0.095</td>\n",
              "      <td>0.5614</td>\n",
              "      <td>1.161</td>\n",
              "      <td>0.098</td>\n",
              "      <td>5</td>\n",
              "      <td>2004</td>\n",
              "      <td>0</td>\n",
              "    </tr>\n",
              "    <tr>\n",
              "      <th>3</th>\n",
              "      <td>2004-05-09</td>\n",
              "      <td>2004-05-15</td>\n",
              "      <td>MATO GROSSO DO SUL</td>\n",
              "      <td>ETANOL HIDRATADO</td>\n",
              "      <td>162</td>\n",
              "      <td>R$/l</td>\n",
              "      <td>1.262</td>\n",
              "      <td>0.070</td>\n",
              "      <td>1.09</td>\n",
              "      <td>1.509</td>\n",
              "      <td>0.432</td>\n",
              "      <td>0.055</td>\n",
              "      <td>0.83</td>\n",
              "      <td>0.119</td>\n",
              "      <td>0.5991</td>\n",
              "      <td>1.22242</td>\n",
              "      <td>0.143</td>\n",
              "      <td>5</td>\n",
              "      <td>2004</td>\n",
              "      <td>0</td>\n",
              "    </tr>\n",
              "    <tr>\n",
              "      <th>4</th>\n",
              "      <td>2004-05-09</td>\n",
              "      <td>2004-05-15</td>\n",
              "      <td>ALAGOAS</td>\n",
              "      <td>ETANOL HIDRATADO</td>\n",
              "      <td>103</td>\n",
              "      <td>R$/l</td>\n",
              "      <td>1.181</td>\n",
              "      <td>0.078</td>\n",
              "      <td>1.05</td>\n",
              "      <td>1.400</td>\n",
              "      <td>0.24</td>\n",
              "      <td>0.066</td>\n",
              "      <td>0.941</td>\n",
              "      <td>0.077</td>\n",
              "      <td>0.7441</td>\n",
              "      <td>1.0317</td>\n",
              "      <td>0.082</td>\n",
              "      <td>5</td>\n",
              "      <td>2004</td>\n",
              "      <td>1</td>\n",
              "    </tr>\n",
              "  </tbody>\n",
              "</table>\n",
              "</div>\n",
              "      <button class=\"colab-df-convert\" onclick=\"convertToInteractive('df-f2c95a19-c8e5-4af8-b351-a5d9ee1ac83c')\"\n",
              "              title=\"Convert this dataframe to an interactive table.\"\n",
              "              style=\"display:none;\">\n",
              "        \n",
              "  <svg xmlns=\"http://www.w3.org/2000/svg\" height=\"24px\"viewBox=\"0 0 24 24\"\n",
              "       width=\"24px\">\n",
              "    <path d=\"M0 0h24v24H0V0z\" fill=\"none\"/>\n",
              "    <path d=\"M18.56 5.44l.94 2.06.94-2.06 2.06-.94-2.06-.94-.94-2.06-.94 2.06-2.06.94zm-11 1L8.5 8.5l.94-2.06 2.06-.94-2.06-.94L8.5 2.5l-.94 2.06-2.06.94zm10 10l.94 2.06.94-2.06 2.06-.94-2.06-.94-.94-2.06-.94 2.06-2.06.94z\"/><path d=\"M17.41 7.96l-1.37-1.37c-.4-.4-.92-.59-1.43-.59-.52 0-1.04.2-1.43.59L10.3 9.45l-7.72 7.72c-.78.78-.78 2.05 0 2.83L4 21.41c.39.39.9.59 1.41.59.51 0 1.02-.2 1.41-.59l7.78-7.78 2.81-2.81c.8-.78.8-2.07 0-2.86zM5.41 20L4 18.59l7.72-7.72 1.47 1.35L5.41 20z\"/>\n",
              "  </svg>\n",
              "      </button>\n",
              "      \n",
              "  <style>\n",
              "    .colab-df-container {\n",
              "      display:flex;\n",
              "      flex-wrap:wrap;\n",
              "      gap: 12px;\n",
              "    }\n",
              "\n",
              "    .colab-df-convert {\n",
              "      background-color: #E8F0FE;\n",
              "      border: none;\n",
              "      border-radius: 50%;\n",
              "      cursor: pointer;\n",
              "      display: none;\n",
              "      fill: #1967D2;\n",
              "      height: 32px;\n",
              "      padding: 0 0 0 0;\n",
              "      width: 32px;\n",
              "    }\n",
              "\n",
              "    .colab-df-convert:hover {\n",
              "      background-color: #E2EBFA;\n",
              "      box-shadow: 0px 1px 2px rgba(60, 64, 67, 0.3), 0px 1px 3px 1px rgba(60, 64, 67, 0.15);\n",
              "      fill: #174EA6;\n",
              "    }\n",
              "\n",
              "    [theme=dark] .colab-df-convert {\n",
              "      background-color: #3B4455;\n",
              "      fill: #D2E3FC;\n",
              "    }\n",
              "\n",
              "    [theme=dark] .colab-df-convert:hover {\n",
              "      background-color: #434B5C;\n",
              "      box-shadow: 0px 1px 3px 1px rgba(0, 0, 0, 0.15);\n",
              "      filter: drop-shadow(0px 1px 2px rgba(0, 0, 0, 0.3));\n",
              "      fill: #FFFFFF;\n",
              "    }\n",
              "  </style>\n",
              "\n",
              "      <script>\n",
              "        const buttonEl =\n",
              "          document.querySelector('#df-f2c95a19-c8e5-4af8-b351-a5d9ee1ac83c button.colab-df-convert');\n",
              "        buttonEl.style.display =\n",
              "          google.colab.kernel.accessAllowed ? 'block' : 'none';\n",
              "\n",
              "        async function convertToInteractive(key) {\n",
              "          const element = document.querySelector('#df-f2c95a19-c8e5-4af8-b351-a5d9ee1ac83c');\n",
              "          const dataTable =\n",
              "            await google.colab.kernel.invokeFunction('convertToInteractive',\n",
              "                                                     [key], {});\n",
              "          if (!dataTable) return;\n",
              "\n",
              "          const docLinkHtml = 'Like what you see? Visit the ' +\n",
              "            '<a target=\"_blank\" href=https://colab.research.google.com/notebooks/data_table.ipynb>data table notebook</a>'\n",
              "            + ' to learn more about interactive tables.';\n",
              "          element.innerHTML = '';\n",
              "          dataTable['output_type'] = 'display_data';\n",
              "          await google.colab.output.renderOutput(dataTable, element);\n",
              "          const docLink = document.createElement('div');\n",
              "          docLink.innerHTML = docLinkHtml;\n",
              "          element.appendChild(docLink);\n",
              "        }\n",
              "      </script>\n",
              "    </div>\n",
              "  </div>\n",
              "  "
            ]
          },
          "metadata": {},
          "execution_count": 22
        }
      ],
      "source": [
        "data.head()"
      ]
    },
    {
      "cell_type": "markdown",
      "metadata": {
        "id": "SAaytAivJ19d"
      },
      "source": [
        "\n",
        "___________________\n",
        "\n",
        "now lets repeat it in State \n"
      ]
    },
    {
      "cell_type": "code",
      "execution_count": null,
      "metadata": {
        "colab": {
          "base_uri": "https://localhost:8080/"
        },
        "id": "t3D9CIaSJ19g",
        "outputId": "884b91b2-79bf-4209-cd74-b72ee3bb7b94"
      },
      "outputs": [
        {
          "output_type": "execute_result",
          "data": {
            "text/plain": [
              "array(['DISTRITO FEDERAL', 'GOIAS', 'MATO GROSSO', 'MATO GROSSO DO SUL',\n",
              "       'ALAGOAS', 'BAHIA', 'CEARA', 'MARANHAO', 'PARAIBA', 'PERNAMBUCO',\n",
              "       'PIAUI', 'RIO GRANDE DO NORTE', 'SERGIPE', 'ACRE', 'AMAPA',\n",
              "       'AMAZONAS', 'PARA', 'RONDONIA', 'RORAIMA', 'TOCANTINS',\n",
              "       'ESPIRITO SANTO', 'MINAS GERAIS', 'RIO DE JANEIRO', 'SAO PAULO',\n",
              "       'PARANA', 'RIO GRANDE DO SUL', 'SANTA CATARINA'], dtype=object)"
            ]
          },
          "metadata": {},
          "execution_count": 23
        }
      ],
      "source": [
        "data['State'].unique()"
      ]
    },
    {
      "cell_type": "code",
      "execution_count": null,
      "metadata": {
        "colab": {
          "base_uri": "https://localhost:8080/",
          "height": 392
        },
        "id": "PiaXNoE7J19r",
        "outputId": "1058939b-1c40-4c5e-e645-4168cdbf95f3"
      },
      "outputs": [
        {
          "output_type": "execute_result",
          "data": {
            "text/plain": [
              "  Initial Date Final Date           Product  Number of searches  \\\n",
              "0   2004-05-09 2004-05-15  ETANOL HIDRATADO                 127   \n",
              "1   2004-05-09 2004-05-15  ETANOL HIDRATADO                 387   \n",
              "2   2004-05-09 2004-05-15  ETANOL HIDRATADO                 192   \n",
              "3   2004-05-09 2004-05-15  ETANOL HIDRATADO                 162   \n",
              "4   2004-05-09 2004-05-15  ETANOL HIDRATADO                 103   \n",
              "\n",
              "  Unit of Measurment  Mean Price  Default Price  Minimum Price  Maximum Price  \\\n",
              "0               R$/l       1.288          0.016           1.19          1.350   \n",
              "1               R$/l       1.162          0.114           0.89          1.449   \n",
              "2               R$/l       1.389          0.097           1.18          1.760   \n",
              "3               R$/l       1.262          0.070           1.09          1.509   \n",
              "4               R$/l       1.181          0.078           1.05          1.400   \n",
              "\n",
              "  Mean Margin  Price Standar Deviation Mean Price Distribution  \\\n",
              "0       0.463                    0.012                   0.825   \n",
              "1       0.399                    0.098                   0.763   \n",
              "2       0.419                    0.070                    0.97   \n",
              "3       0.432                    0.055                    0.83   \n",
              "4        0.24                    0.066                   0.941   \n",
              "\n",
              "  Default Price Distribution Minimum Price Distribution  \\\n",
              "0                       0.11                     0.4201   \n",
              "1                      0.088                     0.5013   \n",
              "2                      0.095                     0.5614   \n",
              "3                      0.119                     0.5991   \n",
              "4                      0.077                     0.7441   \n",
              "\n",
              "  Maximum Price Distribution Distribution Standard Deviation  M Factor  Year  \\\n",
              "0                     0.9666                           0.133         5  2004   \n",
              "1                       1.05                           0.115         5  2004   \n",
              "2                      1.161                           0.098         5  2004   \n",
              "3                    1.22242                           0.143         5  2004   \n",
              "4                     1.0317                           0.082         5  2004   \n",
              "\n",
              "   Region Code  State Code  \n",
              "0            0           0  \n",
              "1            0           1  \n",
              "2            0           2  \n",
              "3            0           3  \n",
              "4            1           4  "
            ],
            "text/html": [
              "\n",
              "  <div id=\"df-9baf61ae-2ad9-4e11-aec5-91abf213f8f5\">\n",
              "    <div class=\"colab-df-container\">\n",
              "      <div>\n",
              "<style scoped>\n",
              "    .dataframe tbody tr th:only-of-type {\n",
              "        vertical-align: middle;\n",
              "    }\n",
              "\n",
              "    .dataframe tbody tr th {\n",
              "        vertical-align: top;\n",
              "    }\n",
              "\n",
              "    .dataframe thead th {\n",
              "        text-align: right;\n",
              "    }\n",
              "</style>\n",
              "<table border=\"1\" class=\"dataframe\">\n",
              "  <thead>\n",
              "    <tr style=\"text-align: right;\">\n",
              "      <th></th>\n",
              "      <th>Initial Date</th>\n",
              "      <th>Final Date</th>\n",
              "      <th>Product</th>\n",
              "      <th>Number of searches</th>\n",
              "      <th>Unit of Measurment</th>\n",
              "      <th>Mean Price</th>\n",
              "      <th>Default Price</th>\n",
              "      <th>Minimum Price</th>\n",
              "      <th>Maximum Price</th>\n",
              "      <th>Mean Margin</th>\n",
              "      <th>Price Standar Deviation</th>\n",
              "      <th>Mean Price Distribution</th>\n",
              "      <th>Default Price Distribution</th>\n",
              "      <th>Minimum Price Distribution</th>\n",
              "      <th>Maximum Price Distribution</th>\n",
              "      <th>Distribution Standard Deviation</th>\n",
              "      <th>M Factor</th>\n",
              "      <th>Year</th>\n",
              "      <th>Region Code</th>\n",
              "      <th>State Code</th>\n",
              "    </tr>\n",
              "  </thead>\n",
              "  <tbody>\n",
              "    <tr>\n",
              "      <th>0</th>\n",
              "      <td>2004-05-09</td>\n",
              "      <td>2004-05-15</td>\n",
              "      <td>ETANOL HIDRATADO</td>\n",
              "      <td>127</td>\n",
              "      <td>R$/l</td>\n",
              "      <td>1.288</td>\n",
              "      <td>0.016</td>\n",
              "      <td>1.19</td>\n",
              "      <td>1.350</td>\n",
              "      <td>0.463</td>\n",
              "      <td>0.012</td>\n",
              "      <td>0.825</td>\n",
              "      <td>0.11</td>\n",
              "      <td>0.4201</td>\n",
              "      <td>0.9666</td>\n",
              "      <td>0.133</td>\n",
              "      <td>5</td>\n",
              "      <td>2004</td>\n",
              "      <td>0</td>\n",
              "      <td>0</td>\n",
              "    </tr>\n",
              "    <tr>\n",
              "      <th>1</th>\n",
              "      <td>2004-05-09</td>\n",
              "      <td>2004-05-15</td>\n",
              "      <td>ETANOL HIDRATADO</td>\n",
              "      <td>387</td>\n",
              "      <td>R$/l</td>\n",
              "      <td>1.162</td>\n",
              "      <td>0.114</td>\n",
              "      <td>0.89</td>\n",
              "      <td>1.449</td>\n",
              "      <td>0.399</td>\n",
              "      <td>0.098</td>\n",
              "      <td>0.763</td>\n",
              "      <td>0.088</td>\n",
              "      <td>0.5013</td>\n",
              "      <td>1.05</td>\n",
              "      <td>0.115</td>\n",
              "      <td>5</td>\n",
              "      <td>2004</td>\n",
              "      <td>0</td>\n",
              "      <td>1</td>\n",
              "    </tr>\n",
              "    <tr>\n",
              "      <th>2</th>\n",
              "      <td>2004-05-09</td>\n",
              "      <td>2004-05-15</td>\n",
              "      <td>ETANOL HIDRATADO</td>\n",
              "      <td>192</td>\n",
              "      <td>R$/l</td>\n",
              "      <td>1.389</td>\n",
              "      <td>0.097</td>\n",
              "      <td>1.18</td>\n",
              "      <td>1.760</td>\n",
              "      <td>0.419</td>\n",
              "      <td>0.070</td>\n",
              "      <td>0.97</td>\n",
              "      <td>0.095</td>\n",
              "      <td>0.5614</td>\n",
              "      <td>1.161</td>\n",
              "      <td>0.098</td>\n",
              "      <td>5</td>\n",
              "      <td>2004</td>\n",
              "      <td>0</td>\n",
              "      <td>2</td>\n",
              "    </tr>\n",
              "    <tr>\n",
              "      <th>3</th>\n",
              "      <td>2004-05-09</td>\n",
              "      <td>2004-05-15</td>\n",
              "      <td>ETANOL HIDRATADO</td>\n",
              "      <td>162</td>\n",
              "      <td>R$/l</td>\n",
              "      <td>1.262</td>\n",
              "      <td>0.070</td>\n",
              "      <td>1.09</td>\n",
              "      <td>1.509</td>\n",
              "      <td>0.432</td>\n",
              "      <td>0.055</td>\n",
              "      <td>0.83</td>\n",
              "      <td>0.119</td>\n",
              "      <td>0.5991</td>\n",
              "      <td>1.22242</td>\n",
              "      <td>0.143</td>\n",
              "      <td>5</td>\n",
              "      <td>2004</td>\n",
              "      <td>0</td>\n",
              "      <td>3</td>\n",
              "    </tr>\n",
              "    <tr>\n",
              "      <th>4</th>\n",
              "      <td>2004-05-09</td>\n",
              "      <td>2004-05-15</td>\n",
              "      <td>ETANOL HIDRATADO</td>\n",
              "      <td>103</td>\n",
              "      <td>R$/l</td>\n",
              "      <td>1.181</td>\n",
              "      <td>0.078</td>\n",
              "      <td>1.05</td>\n",
              "      <td>1.400</td>\n",
              "      <td>0.24</td>\n",
              "      <td>0.066</td>\n",
              "      <td>0.941</td>\n",
              "      <td>0.077</td>\n",
              "      <td>0.7441</td>\n",
              "      <td>1.0317</td>\n",
              "      <td>0.082</td>\n",
              "      <td>5</td>\n",
              "      <td>2004</td>\n",
              "      <td>1</td>\n",
              "      <td>4</td>\n",
              "    </tr>\n",
              "  </tbody>\n",
              "</table>\n",
              "</div>\n",
              "      <button class=\"colab-df-convert\" onclick=\"convertToInteractive('df-9baf61ae-2ad9-4e11-aec5-91abf213f8f5')\"\n",
              "              title=\"Convert this dataframe to an interactive table.\"\n",
              "              style=\"display:none;\">\n",
              "        \n",
              "  <svg xmlns=\"http://www.w3.org/2000/svg\" height=\"24px\"viewBox=\"0 0 24 24\"\n",
              "       width=\"24px\">\n",
              "    <path d=\"M0 0h24v24H0V0z\" fill=\"none\"/>\n",
              "    <path d=\"M18.56 5.44l.94 2.06.94-2.06 2.06-.94-2.06-.94-.94-2.06-.94 2.06-2.06.94zm-11 1L8.5 8.5l.94-2.06 2.06-.94-2.06-.94L8.5 2.5l-.94 2.06-2.06.94zm10 10l.94 2.06.94-2.06 2.06-.94-2.06-.94-.94-2.06-.94 2.06-2.06.94z\"/><path d=\"M17.41 7.96l-1.37-1.37c-.4-.4-.92-.59-1.43-.59-.52 0-1.04.2-1.43.59L10.3 9.45l-7.72 7.72c-.78.78-.78 2.05 0 2.83L4 21.41c.39.39.9.59 1.41.59.51 0 1.02-.2 1.41-.59l7.78-7.78 2.81-2.81c.8-.78.8-2.07 0-2.86zM5.41 20L4 18.59l7.72-7.72 1.47 1.35L5.41 20z\"/>\n",
              "  </svg>\n",
              "      </button>\n",
              "      \n",
              "  <style>\n",
              "    .colab-df-container {\n",
              "      display:flex;\n",
              "      flex-wrap:wrap;\n",
              "      gap: 12px;\n",
              "    }\n",
              "\n",
              "    .colab-df-convert {\n",
              "      background-color: #E8F0FE;\n",
              "      border: none;\n",
              "      border-radius: 50%;\n",
              "      cursor: pointer;\n",
              "      display: none;\n",
              "      fill: #1967D2;\n",
              "      height: 32px;\n",
              "      padding: 0 0 0 0;\n",
              "      width: 32px;\n",
              "    }\n",
              "\n",
              "    .colab-df-convert:hover {\n",
              "      background-color: #E2EBFA;\n",
              "      box-shadow: 0px 1px 2px rgba(60, 64, 67, 0.3), 0px 1px 3px 1px rgba(60, 64, 67, 0.15);\n",
              "      fill: #174EA6;\n",
              "    }\n",
              "\n",
              "    [theme=dark] .colab-df-convert {\n",
              "      background-color: #3B4455;\n",
              "      fill: #D2E3FC;\n",
              "    }\n",
              "\n",
              "    [theme=dark] .colab-df-convert:hover {\n",
              "      background-color: #434B5C;\n",
              "      box-shadow: 0px 1px 3px 1px rgba(0, 0, 0, 0.15);\n",
              "      filter: drop-shadow(0px 1px 2px rgba(0, 0, 0, 0.3));\n",
              "      fill: #FFFFFF;\n",
              "    }\n",
              "  </style>\n",
              "\n",
              "      <script>\n",
              "        const buttonEl =\n",
              "          document.querySelector('#df-9baf61ae-2ad9-4e11-aec5-91abf213f8f5 button.colab-df-convert');\n",
              "        buttonEl.style.display =\n",
              "          google.colab.kernel.accessAllowed ? 'block' : 'none';\n",
              "\n",
              "        async function convertToInteractive(key) {\n",
              "          const element = document.querySelector('#df-9baf61ae-2ad9-4e11-aec5-91abf213f8f5');\n",
              "          const dataTable =\n",
              "            await google.colab.kernel.invokeFunction('convertToInteractive',\n",
              "                                                     [key], {});\n",
              "          if (!dataTable) return;\n",
              "\n",
              "          const docLinkHtml = 'Like what you see? Visit the ' +\n",
              "            '<a target=\"_blank\" href=https://colab.research.google.com/notebooks/data_table.ipynb>data table notebook</a>'\n",
              "            + ' to learn more about interactive tables.';\n",
              "          element.innerHTML = '';\n",
              "          dataTable['output_type'] = 'display_data';\n",
              "          await google.colab.output.renderOutput(dataTable, element);\n",
              "          const docLink = document.createElement('div');\n",
              "          docLink.innerHTML = docLinkHtml;\n",
              "          element.appendChild(docLink);\n",
              "        }\n",
              "      </script>\n",
              "    </div>\n",
              "  </div>\n",
              "  "
            ]
          },
          "metadata": {},
          "execution_count": 24
        }
      ],
      "source": [
        "State_dict = {'DISTRITO FEDERAL':0, 'GOIAS':1, 'MATO GROSSO':2, 'MATO GROSSO DO SUL':3,\n",
        "       'ALAGOAS':4, 'BAHIA':5, 'CEARA':6, 'MARANHAO':7, 'PARAIBA':8, 'PERNAMBUCO':9,\n",
        "       'PIAUI':10, 'RIO GRANDE DO NORTE':11, 'SERGIPE':12, 'ACRE':13, 'AMAPA':14,\n",
        "       'AMAZONAS':15, 'PARA':16, 'RONDONIA':17, 'RORAIMA':18, 'TOCANTINS':19,\n",
        "       'ESPIRITO SANTO':20, 'MINAS GERAIS':21, 'RIO DE JANEIRO':22, 'SAO PAULO':23,\n",
        "       'PARANA':24, 'RIO GRANDE DO SUL':25, 'SANTA CATARINA':26}\n",
        "data['State Code'] = data['State'].map(State_dict)\n",
        "\n",
        "data.drop(['State'],axis=1, inplace=True)\n",
        "\n",
        "data.head()\n"
      ]
    },
    {
      "cell_type": "code",
      "execution_count": null,
      "metadata": {
        "colab": {
          "base_uri": "https://localhost:8080/"
        },
        "id": "RBimZyhGJ191",
        "outputId": "293007ca-3429-4eae-b853-53fb4a09d684"
      },
      "outputs": [
        {
          "output_type": "execute_result",
          "data": {
            "text/plain": [
              "array(['ETANOL HIDRATADO', 'GASOLINA COMUM', 'GLP', 'GNV', 'أ“LEO DIESEL',\n",
              "       'أ“LEO DIESEL S10'], dtype=object)"
            ]
          },
          "metadata": {},
          "execution_count": 25
        }
      ],
      "source": [
        "data['Product'].unique()"
      ]
    },
    {
      "cell_type": "markdown",
      "metadata": {
        "id": "glOQRM3TJ199"
      },
      "source": [
        "\n",
        "_________\n",
        "\n",
        "then Product . . \n"
      ]
    },
    {
      "cell_type": "code",
      "execution_count": null,
      "metadata": {
        "colab": {
          "base_uri": "https://localhost:8080/",
          "height": 392
        },
        "id": "91s5Y3KMJ1-B",
        "outputId": "13a41196-1b39-4fd7-c455-920f2150651a"
      },
      "outputs": [
        {
          "output_type": "execute_result",
          "data": {
            "text/plain": [
              "  Initial Date Final Date  Number of searches Unit of Measurment  Mean Price  \\\n",
              "0   2004-05-09 2004-05-15                 127               R$/l       1.288   \n",
              "1   2004-05-09 2004-05-15                 387               R$/l       1.162   \n",
              "2   2004-05-09 2004-05-15                 192               R$/l       1.389   \n",
              "3   2004-05-09 2004-05-15                 162               R$/l       1.262   \n",
              "4   2004-05-09 2004-05-15                 103               R$/l       1.181   \n",
              "\n",
              "   Default Price  Minimum Price  Maximum Price Mean Margin  \\\n",
              "0          0.016           1.19          1.350       0.463   \n",
              "1          0.114           0.89          1.449       0.399   \n",
              "2          0.097           1.18          1.760       0.419   \n",
              "3          0.070           1.09          1.509       0.432   \n",
              "4          0.078           1.05          1.400        0.24   \n",
              "\n",
              "   Price Standar Deviation Mean Price Distribution Default Price Distribution  \\\n",
              "0                    0.012                   0.825                       0.11   \n",
              "1                    0.098                   0.763                      0.088   \n",
              "2                    0.070                    0.97                      0.095   \n",
              "3                    0.055                    0.83                      0.119   \n",
              "4                    0.066                   0.941                      0.077   \n",
              "\n",
              "  Minimum Price Distribution Maximum Price Distribution  \\\n",
              "0                     0.4201                     0.9666   \n",
              "1                     0.5013                       1.05   \n",
              "2                     0.5614                      1.161   \n",
              "3                     0.5991                    1.22242   \n",
              "4                     0.7441                     1.0317   \n",
              "\n",
              "  Distribution Standard Deviation  M Factor  Year  Region Code  State Code  \\\n",
              "0                           0.133         5  2004            0           0   \n",
              "1                           0.115         5  2004            0           1   \n",
              "2                           0.098         5  2004            0           2   \n",
              "3                           0.143         5  2004            0           3   \n",
              "4                           0.082         5  2004            1           4   \n",
              "\n",
              "   Product Code  \n",
              "0             0  \n",
              "1             0  \n",
              "2             0  \n",
              "3             0  \n",
              "4             0  "
            ],
            "text/html": [
              "\n",
              "  <div id=\"df-1e5776fc-eb7e-435b-944d-fd382980381b\">\n",
              "    <div class=\"colab-df-container\">\n",
              "      <div>\n",
              "<style scoped>\n",
              "    .dataframe tbody tr th:only-of-type {\n",
              "        vertical-align: middle;\n",
              "    }\n",
              "\n",
              "    .dataframe tbody tr th {\n",
              "        vertical-align: top;\n",
              "    }\n",
              "\n",
              "    .dataframe thead th {\n",
              "        text-align: right;\n",
              "    }\n",
              "</style>\n",
              "<table border=\"1\" class=\"dataframe\">\n",
              "  <thead>\n",
              "    <tr style=\"text-align: right;\">\n",
              "      <th></th>\n",
              "      <th>Initial Date</th>\n",
              "      <th>Final Date</th>\n",
              "      <th>Number of searches</th>\n",
              "      <th>Unit of Measurment</th>\n",
              "      <th>Mean Price</th>\n",
              "      <th>Default Price</th>\n",
              "      <th>Minimum Price</th>\n",
              "      <th>Maximum Price</th>\n",
              "      <th>Mean Margin</th>\n",
              "      <th>Price Standar Deviation</th>\n",
              "      <th>Mean Price Distribution</th>\n",
              "      <th>Default Price Distribution</th>\n",
              "      <th>Minimum Price Distribution</th>\n",
              "      <th>Maximum Price Distribution</th>\n",
              "      <th>Distribution Standard Deviation</th>\n",
              "      <th>M Factor</th>\n",
              "      <th>Year</th>\n",
              "      <th>Region Code</th>\n",
              "      <th>State Code</th>\n",
              "      <th>Product Code</th>\n",
              "    </tr>\n",
              "  </thead>\n",
              "  <tbody>\n",
              "    <tr>\n",
              "      <th>0</th>\n",
              "      <td>2004-05-09</td>\n",
              "      <td>2004-05-15</td>\n",
              "      <td>127</td>\n",
              "      <td>R$/l</td>\n",
              "      <td>1.288</td>\n",
              "      <td>0.016</td>\n",
              "      <td>1.19</td>\n",
              "      <td>1.350</td>\n",
              "      <td>0.463</td>\n",
              "      <td>0.012</td>\n",
              "      <td>0.825</td>\n",
              "      <td>0.11</td>\n",
              "      <td>0.4201</td>\n",
              "      <td>0.9666</td>\n",
              "      <td>0.133</td>\n",
              "      <td>5</td>\n",
              "      <td>2004</td>\n",
              "      <td>0</td>\n",
              "      <td>0</td>\n",
              "      <td>0</td>\n",
              "    </tr>\n",
              "    <tr>\n",
              "      <th>1</th>\n",
              "      <td>2004-05-09</td>\n",
              "      <td>2004-05-15</td>\n",
              "      <td>387</td>\n",
              "      <td>R$/l</td>\n",
              "      <td>1.162</td>\n",
              "      <td>0.114</td>\n",
              "      <td>0.89</td>\n",
              "      <td>1.449</td>\n",
              "      <td>0.399</td>\n",
              "      <td>0.098</td>\n",
              "      <td>0.763</td>\n",
              "      <td>0.088</td>\n",
              "      <td>0.5013</td>\n",
              "      <td>1.05</td>\n",
              "      <td>0.115</td>\n",
              "      <td>5</td>\n",
              "      <td>2004</td>\n",
              "      <td>0</td>\n",
              "      <td>1</td>\n",
              "      <td>0</td>\n",
              "    </tr>\n",
              "    <tr>\n",
              "      <th>2</th>\n",
              "      <td>2004-05-09</td>\n",
              "      <td>2004-05-15</td>\n",
              "      <td>192</td>\n",
              "      <td>R$/l</td>\n",
              "      <td>1.389</td>\n",
              "      <td>0.097</td>\n",
              "      <td>1.18</td>\n",
              "      <td>1.760</td>\n",
              "      <td>0.419</td>\n",
              "      <td>0.070</td>\n",
              "      <td>0.97</td>\n",
              "      <td>0.095</td>\n",
              "      <td>0.5614</td>\n",
              "      <td>1.161</td>\n",
              "      <td>0.098</td>\n",
              "      <td>5</td>\n",
              "      <td>2004</td>\n",
              "      <td>0</td>\n",
              "      <td>2</td>\n",
              "      <td>0</td>\n",
              "    </tr>\n",
              "    <tr>\n",
              "      <th>3</th>\n",
              "      <td>2004-05-09</td>\n",
              "      <td>2004-05-15</td>\n",
              "      <td>162</td>\n",
              "      <td>R$/l</td>\n",
              "      <td>1.262</td>\n",
              "      <td>0.070</td>\n",
              "      <td>1.09</td>\n",
              "      <td>1.509</td>\n",
              "      <td>0.432</td>\n",
              "      <td>0.055</td>\n",
              "      <td>0.83</td>\n",
              "      <td>0.119</td>\n",
              "      <td>0.5991</td>\n",
              "      <td>1.22242</td>\n",
              "      <td>0.143</td>\n",
              "      <td>5</td>\n",
              "      <td>2004</td>\n",
              "      <td>0</td>\n",
              "      <td>3</td>\n",
              "      <td>0</td>\n",
              "    </tr>\n",
              "    <tr>\n",
              "      <th>4</th>\n",
              "      <td>2004-05-09</td>\n",
              "      <td>2004-05-15</td>\n",
              "      <td>103</td>\n",
              "      <td>R$/l</td>\n",
              "      <td>1.181</td>\n",
              "      <td>0.078</td>\n",
              "      <td>1.05</td>\n",
              "      <td>1.400</td>\n",
              "      <td>0.24</td>\n",
              "      <td>0.066</td>\n",
              "      <td>0.941</td>\n",
              "      <td>0.077</td>\n",
              "      <td>0.7441</td>\n",
              "      <td>1.0317</td>\n",
              "      <td>0.082</td>\n",
              "      <td>5</td>\n",
              "      <td>2004</td>\n",
              "      <td>1</td>\n",
              "      <td>4</td>\n",
              "      <td>0</td>\n",
              "    </tr>\n",
              "  </tbody>\n",
              "</table>\n",
              "</div>\n",
              "      <button class=\"colab-df-convert\" onclick=\"convertToInteractive('df-1e5776fc-eb7e-435b-944d-fd382980381b')\"\n",
              "              title=\"Convert this dataframe to an interactive table.\"\n",
              "              style=\"display:none;\">\n",
              "        \n",
              "  <svg xmlns=\"http://www.w3.org/2000/svg\" height=\"24px\"viewBox=\"0 0 24 24\"\n",
              "       width=\"24px\">\n",
              "    <path d=\"M0 0h24v24H0V0z\" fill=\"none\"/>\n",
              "    <path d=\"M18.56 5.44l.94 2.06.94-2.06 2.06-.94-2.06-.94-.94-2.06-.94 2.06-2.06.94zm-11 1L8.5 8.5l.94-2.06 2.06-.94-2.06-.94L8.5 2.5l-.94 2.06-2.06.94zm10 10l.94 2.06.94-2.06 2.06-.94-2.06-.94-.94-2.06-.94 2.06-2.06.94z\"/><path d=\"M17.41 7.96l-1.37-1.37c-.4-.4-.92-.59-1.43-.59-.52 0-1.04.2-1.43.59L10.3 9.45l-7.72 7.72c-.78.78-.78 2.05 0 2.83L4 21.41c.39.39.9.59 1.41.59.51 0 1.02-.2 1.41-.59l7.78-7.78 2.81-2.81c.8-.78.8-2.07 0-2.86zM5.41 20L4 18.59l7.72-7.72 1.47 1.35L5.41 20z\"/>\n",
              "  </svg>\n",
              "      </button>\n",
              "      \n",
              "  <style>\n",
              "    .colab-df-container {\n",
              "      display:flex;\n",
              "      flex-wrap:wrap;\n",
              "      gap: 12px;\n",
              "    }\n",
              "\n",
              "    .colab-df-convert {\n",
              "      background-color: #E8F0FE;\n",
              "      border: none;\n",
              "      border-radius: 50%;\n",
              "      cursor: pointer;\n",
              "      display: none;\n",
              "      fill: #1967D2;\n",
              "      height: 32px;\n",
              "      padding: 0 0 0 0;\n",
              "      width: 32px;\n",
              "    }\n",
              "\n",
              "    .colab-df-convert:hover {\n",
              "      background-color: #E2EBFA;\n",
              "      box-shadow: 0px 1px 2px rgba(60, 64, 67, 0.3), 0px 1px 3px 1px rgba(60, 64, 67, 0.15);\n",
              "      fill: #174EA6;\n",
              "    }\n",
              "\n",
              "    [theme=dark] .colab-df-convert {\n",
              "      background-color: #3B4455;\n",
              "      fill: #D2E3FC;\n",
              "    }\n",
              "\n",
              "    [theme=dark] .colab-df-convert:hover {\n",
              "      background-color: #434B5C;\n",
              "      box-shadow: 0px 1px 3px 1px rgba(0, 0, 0, 0.15);\n",
              "      filter: drop-shadow(0px 1px 2px rgba(0, 0, 0, 0.3));\n",
              "      fill: #FFFFFF;\n",
              "    }\n",
              "  </style>\n",
              "\n",
              "      <script>\n",
              "        const buttonEl =\n",
              "          document.querySelector('#df-1e5776fc-eb7e-435b-944d-fd382980381b button.colab-df-convert');\n",
              "        buttonEl.style.display =\n",
              "          google.colab.kernel.accessAllowed ? 'block' : 'none';\n",
              "\n",
              "        async function convertToInteractive(key) {\n",
              "          const element = document.querySelector('#df-1e5776fc-eb7e-435b-944d-fd382980381b');\n",
              "          const dataTable =\n",
              "            await google.colab.kernel.invokeFunction('convertToInteractive',\n",
              "                                                     [key], {});\n",
              "          if (!dataTable) return;\n",
              "\n",
              "          const docLinkHtml = 'Like what you see? Visit the ' +\n",
              "            '<a target=\"_blank\" href=https://colab.research.google.com/notebooks/data_table.ipynb>data table notebook</a>'\n",
              "            + ' to learn more about interactive tables.';\n",
              "          element.innerHTML = '';\n",
              "          dataTable['output_type'] = 'display_data';\n",
              "          await google.colab.output.renderOutput(dataTable, element);\n",
              "          const docLink = document.createElement('div');\n",
              "          docLink.innerHTML = docLinkHtml;\n",
              "          element.appendChild(docLink);\n",
              "        }\n",
              "      </script>\n",
              "    </div>\n",
              "  </div>\n",
              "  "
            ]
          },
          "metadata": {},
          "execution_count": 26
        }
      ],
      "source": [
        "Product_dict = {'ETANOL HIDRATADO':0, 'GASOLINA COMUM':1, 'GLP':2, 'GNV':3, 'أ“LEO DIESEL':4,\n",
        "       'أ“LEO DIESEL S10':5}\n",
        "\n",
        "data['Product Code'] = data['Product'].map(Product_dict)\n",
        "\n",
        "data.drop(['Product'],axis=1, inplace=True)\n",
        "\n",
        "data.head()"
      ]
    },
    {
      "cell_type": "markdown",
      "metadata": {
        "id": "3OuIYmifJ1-K"
      },
      "source": [
        "\n",
        "_________\n",
        "\n",
        "and Unit of measurment"
      ]
    },
    {
      "cell_type": "code",
      "execution_count": null,
      "metadata": {
        "colab": {
          "base_uri": "https://localhost:8080/"
        },
        "id": "Zhaw60T8J1-N",
        "outputId": "a931161c-d255-4526-aa3f-b2a87422ffde"
      },
      "outputs": [
        {
          "output_type": "execute_result",
          "data": {
            "text/plain": [
              "array(['R$/l', 'R$/13Kg', 'R$/m3'], dtype=object)"
            ]
          },
          "metadata": {},
          "execution_count": 27
        }
      ],
      "source": [
        "data['Unit of Measurment'].unique()"
      ]
    },
    {
      "cell_type": "code",
      "execution_count": null,
      "metadata": {
        "colab": {
          "base_uri": "https://localhost:8080/",
          "height": 392
        },
        "id": "4yrkdeovJ1-U",
        "outputId": "203fae73-421c-48f8-8a5c-d7ee9ca1e6cc"
      },
      "outputs": [
        {
          "output_type": "execute_result",
          "data": {
            "text/plain": [
              "  Initial Date Final Date  Number of searches  Mean Price  Default Price  \\\n",
              "0   2004-05-09 2004-05-15                 127       1.288          0.016   \n",
              "1   2004-05-09 2004-05-15                 387       1.162          0.114   \n",
              "2   2004-05-09 2004-05-15                 192       1.389          0.097   \n",
              "3   2004-05-09 2004-05-15                 162       1.262          0.070   \n",
              "4   2004-05-09 2004-05-15                 103       1.181          0.078   \n",
              "\n",
              "   Minimum Price  Maximum Price Mean Margin  Price Standar Deviation  \\\n",
              "0           1.19          1.350       0.463                    0.012   \n",
              "1           0.89          1.449       0.399                    0.098   \n",
              "2           1.18          1.760       0.419                    0.070   \n",
              "3           1.09          1.509       0.432                    0.055   \n",
              "4           1.05          1.400        0.24                    0.066   \n",
              "\n",
              "  Mean Price Distribution Default Price Distribution  \\\n",
              "0                   0.825                       0.11   \n",
              "1                   0.763                      0.088   \n",
              "2                    0.97                      0.095   \n",
              "3                    0.83                      0.119   \n",
              "4                   0.941                      0.077   \n",
              "\n",
              "  Minimum Price Distribution Maximum Price Distribution  \\\n",
              "0                     0.4201                     0.9666   \n",
              "1                     0.5013                       1.05   \n",
              "2                     0.5614                      1.161   \n",
              "3                     0.5991                    1.22242   \n",
              "4                     0.7441                     1.0317   \n",
              "\n",
              "  Distribution Standard Deviation  M Factor  Year  Region Code  State Code  \\\n",
              "0                           0.133         5  2004            0           0   \n",
              "1                           0.115         5  2004            0           1   \n",
              "2                           0.098         5  2004            0           2   \n",
              "3                           0.143         5  2004            0           3   \n",
              "4                           0.082         5  2004            1           4   \n",
              "\n",
              "   Product Code  Unit Code  \n",
              "0             0          0  \n",
              "1             0          0  \n",
              "2             0          0  \n",
              "3             0          0  \n",
              "4             0          0  "
            ],
            "text/html": [
              "\n",
              "  <div id=\"df-aeeb7bbe-bfe0-4c10-9ecd-e468015e16d4\">\n",
              "    <div class=\"colab-df-container\">\n",
              "      <div>\n",
              "<style scoped>\n",
              "    .dataframe tbody tr th:only-of-type {\n",
              "        vertical-align: middle;\n",
              "    }\n",
              "\n",
              "    .dataframe tbody tr th {\n",
              "        vertical-align: top;\n",
              "    }\n",
              "\n",
              "    .dataframe thead th {\n",
              "        text-align: right;\n",
              "    }\n",
              "</style>\n",
              "<table border=\"1\" class=\"dataframe\">\n",
              "  <thead>\n",
              "    <tr style=\"text-align: right;\">\n",
              "      <th></th>\n",
              "      <th>Initial Date</th>\n",
              "      <th>Final Date</th>\n",
              "      <th>Number of searches</th>\n",
              "      <th>Mean Price</th>\n",
              "      <th>Default Price</th>\n",
              "      <th>Minimum Price</th>\n",
              "      <th>Maximum Price</th>\n",
              "      <th>Mean Margin</th>\n",
              "      <th>Price Standar Deviation</th>\n",
              "      <th>Mean Price Distribution</th>\n",
              "      <th>Default Price Distribution</th>\n",
              "      <th>Minimum Price Distribution</th>\n",
              "      <th>Maximum Price Distribution</th>\n",
              "      <th>Distribution Standard Deviation</th>\n",
              "      <th>M Factor</th>\n",
              "      <th>Year</th>\n",
              "      <th>Region Code</th>\n",
              "      <th>State Code</th>\n",
              "      <th>Product Code</th>\n",
              "      <th>Unit Code</th>\n",
              "    </tr>\n",
              "  </thead>\n",
              "  <tbody>\n",
              "    <tr>\n",
              "      <th>0</th>\n",
              "      <td>2004-05-09</td>\n",
              "      <td>2004-05-15</td>\n",
              "      <td>127</td>\n",
              "      <td>1.288</td>\n",
              "      <td>0.016</td>\n",
              "      <td>1.19</td>\n",
              "      <td>1.350</td>\n",
              "      <td>0.463</td>\n",
              "      <td>0.012</td>\n",
              "      <td>0.825</td>\n",
              "      <td>0.11</td>\n",
              "      <td>0.4201</td>\n",
              "      <td>0.9666</td>\n",
              "      <td>0.133</td>\n",
              "      <td>5</td>\n",
              "      <td>2004</td>\n",
              "      <td>0</td>\n",
              "      <td>0</td>\n",
              "      <td>0</td>\n",
              "      <td>0</td>\n",
              "    </tr>\n",
              "    <tr>\n",
              "      <th>1</th>\n",
              "      <td>2004-05-09</td>\n",
              "      <td>2004-05-15</td>\n",
              "      <td>387</td>\n",
              "      <td>1.162</td>\n",
              "      <td>0.114</td>\n",
              "      <td>0.89</td>\n",
              "      <td>1.449</td>\n",
              "      <td>0.399</td>\n",
              "      <td>0.098</td>\n",
              "      <td>0.763</td>\n",
              "      <td>0.088</td>\n",
              "      <td>0.5013</td>\n",
              "      <td>1.05</td>\n",
              "      <td>0.115</td>\n",
              "      <td>5</td>\n",
              "      <td>2004</td>\n",
              "      <td>0</td>\n",
              "      <td>1</td>\n",
              "      <td>0</td>\n",
              "      <td>0</td>\n",
              "    </tr>\n",
              "    <tr>\n",
              "      <th>2</th>\n",
              "      <td>2004-05-09</td>\n",
              "      <td>2004-05-15</td>\n",
              "      <td>192</td>\n",
              "      <td>1.389</td>\n",
              "      <td>0.097</td>\n",
              "      <td>1.18</td>\n",
              "      <td>1.760</td>\n",
              "      <td>0.419</td>\n",
              "      <td>0.070</td>\n",
              "      <td>0.97</td>\n",
              "      <td>0.095</td>\n",
              "      <td>0.5614</td>\n",
              "      <td>1.161</td>\n",
              "      <td>0.098</td>\n",
              "      <td>5</td>\n",
              "      <td>2004</td>\n",
              "      <td>0</td>\n",
              "      <td>2</td>\n",
              "      <td>0</td>\n",
              "      <td>0</td>\n",
              "    </tr>\n",
              "    <tr>\n",
              "      <th>3</th>\n",
              "      <td>2004-05-09</td>\n",
              "      <td>2004-05-15</td>\n",
              "      <td>162</td>\n",
              "      <td>1.262</td>\n",
              "      <td>0.070</td>\n",
              "      <td>1.09</td>\n",
              "      <td>1.509</td>\n",
              "      <td>0.432</td>\n",
              "      <td>0.055</td>\n",
              "      <td>0.83</td>\n",
              "      <td>0.119</td>\n",
              "      <td>0.5991</td>\n",
              "      <td>1.22242</td>\n",
              "      <td>0.143</td>\n",
              "      <td>5</td>\n",
              "      <td>2004</td>\n",
              "      <td>0</td>\n",
              "      <td>3</td>\n",
              "      <td>0</td>\n",
              "      <td>0</td>\n",
              "    </tr>\n",
              "    <tr>\n",
              "      <th>4</th>\n",
              "      <td>2004-05-09</td>\n",
              "      <td>2004-05-15</td>\n",
              "      <td>103</td>\n",
              "      <td>1.181</td>\n",
              "      <td>0.078</td>\n",
              "      <td>1.05</td>\n",
              "      <td>1.400</td>\n",
              "      <td>0.24</td>\n",
              "      <td>0.066</td>\n",
              "      <td>0.941</td>\n",
              "      <td>0.077</td>\n",
              "      <td>0.7441</td>\n",
              "      <td>1.0317</td>\n",
              "      <td>0.082</td>\n",
              "      <td>5</td>\n",
              "      <td>2004</td>\n",
              "      <td>1</td>\n",
              "      <td>4</td>\n",
              "      <td>0</td>\n",
              "      <td>0</td>\n",
              "    </tr>\n",
              "  </tbody>\n",
              "</table>\n",
              "</div>\n",
              "      <button class=\"colab-df-convert\" onclick=\"convertToInteractive('df-aeeb7bbe-bfe0-4c10-9ecd-e468015e16d4')\"\n",
              "              title=\"Convert this dataframe to an interactive table.\"\n",
              "              style=\"display:none;\">\n",
              "        \n",
              "  <svg xmlns=\"http://www.w3.org/2000/svg\" height=\"24px\"viewBox=\"0 0 24 24\"\n",
              "       width=\"24px\">\n",
              "    <path d=\"M0 0h24v24H0V0z\" fill=\"none\"/>\n",
              "    <path d=\"M18.56 5.44l.94 2.06.94-2.06 2.06-.94-2.06-.94-.94-2.06-.94 2.06-2.06.94zm-11 1L8.5 8.5l.94-2.06 2.06-.94-2.06-.94L8.5 2.5l-.94 2.06-2.06.94zm10 10l.94 2.06.94-2.06 2.06-.94-2.06-.94-.94-2.06-.94 2.06-2.06.94z\"/><path d=\"M17.41 7.96l-1.37-1.37c-.4-.4-.92-.59-1.43-.59-.52 0-1.04.2-1.43.59L10.3 9.45l-7.72 7.72c-.78.78-.78 2.05 0 2.83L4 21.41c.39.39.9.59 1.41.59.51 0 1.02-.2 1.41-.59l7.78-7.78 2.81-2.81c.8-.78.8-2.07 0-2.86zM5.41 20L4 18.59l7.72-7.72 1.47 1.35L5.41 20z\"/>\n",
              "  </svg>\n",
              "      </button>\n",
              "      \n",
              "  <style>\n",
              "    .colab-df-container {\n",
              "      display:flex;\n",
              "      flex-wrap:wrap;\n",
              "      gap: 12px;\n",
              "    }\n",
              "\n",
              "    .colab-df-convert {\n",
              "      background-color: #E8F0FE;\n",
              "      border: none;\n",
              "      border-radius: 50%;\n",
              "      cursor: pointer;\n",
              "      display: none;\n",
              "      fill: #1967D2;\n",
              "      height: 32px;\n",
              "      padding: 0 0 0 0;\n",
              "      width: 32px;\n",
              "    }\n",
              "\n",
              "    .colab-df-convert:hover {\n",
              "      background-color: #E2EBFA;\n",
              "      box-shadow: 0px 1px 2px rgba(60, 64, 67, 0.3), 0px 1px 3px 1px rgba(60, 64, 67, 0.15);\n",
              "      fill: #174EA6;\n",
              "    }\n",
              "\n",
              "    [theme=dark] .colab-df-convert {\n",
              "      background-color: #3B4455;\n",
              "      fill: #D2E3FC;\n",
              "    }\n",
              "\n",
              "    [theme=dark] .colab-df-convert:hover {\n",
              "      background-color: #434B5C;\n",
              "      box-shadow: 0px 1px 3px 1px rgba(0, 0, 0, 0.15);\n",
              "      filter: drop-shadow(0px 1px 2px rgba(0, 0, 0, 0.3));\n",
              "      fill: #FFFFFF;\n",
              "    }\n",
              "  </style>\n",
              "\n",
              "      <script>\n",
              "        const buttonEl =\n",
              "          document.querySelector('#df-aeeb7bbe-bfe0-4c10-9ecd-e468015e16d4 button.colab-df-convert');\n",
              "        buttonEl.style.display =\n",
              "          google.colab.kernel.accessAllowed ? 'block' : 'none';\n",
              "\n",
              "        async function convertToInteractive(key) {\n",
              "          const element = document.querySelector('#df-aeeb7bbe-bfe0-4c10-9ecd-e468015e16d4');\n",
              "          const dataTable =\n",
              "            await google.colab.kernel.invokeFunction('convertToInteractive',\n",
              "                                                     [key], {});\n",
              "          if (!dataTable) return;\n",
              "\n",
              "          const docLinkHtml = 'Like what you see? Visit the ' +\n",
              "            '<a target=\"_blank\" href=https://colab.research.google.com/notebooks/data_table.ipynb>data table notebook</a>'\n",
              "            + ' to learn more about interactive tables.';\n",
              "          element.innerHTML = '';\n",
              "          dataTable['output_type'] = 'display_data';\n",
              "          await google.colab.output.renderOutput(dataTable, element);\n",
              "          const docLink = document.createElement('div');\n",
              "          docLink.innerHTML = docLinkHtml;\n",
              "          element.appendChild(docLink);\n",
              "        }\n",
              "      </script>\n",
              "    </div>\n",
              "  </div>\n",
              "  "
            ]
          },
          "metadata": {},
          "execution_count": 28
        }
      ],
      "source": [
        "Unit_dict = {'R$/l':0, 'R$/13Kg':1, 'R$/m3':2}\n",
        "\n",
        "data['Unit Code'] = data['Unit of Measurment'].map(Unit_dict)\n",
        "\n",
        "data.drop(['Unit of Measurment'],axis=1, inplace=True)\n",
        "\n",
        "data.head()"
      ]
    },
    {
      "cell_type": "markdown",
      "metadata": {
        "id": "wVHfrVUEJ1-c"
      },
      "source": [
        "\n",
        "\n",
        "________\n",
        "\n",
        "# Handling Date \n",
        "\n",
        "since we have here 2 columns for date , which is Initial date & Final Date , let;s first check how many rows when the year at those two columns are mismatch \n"
      ]
    },
    {
      "cell_type": "code",
      "execution_count": null,
      "metadata": {
        "colab": {
          "base_uri": "https://localhost:8080/"
        },
        "id": "QaZ1CcAiJ1-f",
        "outputId": "d056b689-57f0-45d7-d32a-64e1e363a0f9"
      },
      "outputs": [
        {
          "output_type": "stream",
          "name": "stdout",
          "text": [
            "Year mismatch amount is 1042\n"
          ]
        }
      ],
      "source": [
        "mismatch=0\n",
        "for i in range(data.shape[0])  : \n",
        "    if not (int(data['Initial Date'][i].year)  == int(data['Final Date'][i].year)) :\n",
        "        mismatch +=1\n",
        "        \n",
        "print( 'Year mismatch amount is {}'.format(mismatch))"
      ]
    },
    {
      "cell_type": "markdown",
      "metadata": {
        "id": "L3hcsSNgJ1-p"
      },
      "source": [
        "____\n",
        "\n",
        "since it's kinda ew number comparing with the 65 thousand rows , so we can use only one of them , which will be the Final Date\n",
        "\n",
        "also since the Day will not affect so much in the price , so let's only use the month & the year in 2 new separated columns"
      ]
    },
    {
      "cell_type": "code",
      "execution_count": null,
      "metadata": {
        "id": "l3X0snVhJ1-r"
      },
      "outputs": [],
      "source": [
        "Years = []\n",
        "Months = []\n",
        "for i in range(data.shape[0])  : \n",
        "    Years.append(str(data['Final Date'][i])[:4])\n",
        "    Months.append(str(data['Final Date'][i])[5:7])       "
      ]
    },
    {
      "cell_type": "code",
      "execution_count": null,
      "metadata": {
        "id": "ZmZzx96vJ1-2"
      },
      "outputs": [],
      "source": [
        "data['Final Year'] = Years\n",
        "data['Final Months'] = Months\n",
        "\n",
        "data.drop(['Initial Date','Final Date','Year'],axis=1, inplace=True)\n"
      ]
    },
    {
      "cell_type": "markdown",
      "metadata": {
        "id": "wnSV8Z26J1-_"
      },
      "source": [
        "\n",
        "\n",
        "now lets  check the final data \n"
      ]
    },
    {
      "cell_type": "code",
      "execution_count": null,
      "metadata": {
        "colab": {
          "base_uri": "https://localhost:8080/",
          "height": 305
        },
        "id": "PYd3yZ-xJ1_B",
        "outputId": "382a2a60-0e7e-42c7-d41d-8c79ff04d563"
      },
      "outputs": [
        {
          "output_type": "execute_result",
          "data": {
            "text/plain": [
              "   Number of searches  Mean Price  Default Price  Minimum Price  \\\n",
              "0                 127       1.288          0.016           1.19   \n",
              "1                 387       1.162          0.114           0.89   \n",
              "2                 192       1.389          0.097           1.18   \n",
              "3                 162       1.262          0.070           1.09   \n",
              "4                 103       1.181          0.078           1.05   \n",
              "\n",
              "   Maximum Price Mean Margin  Price Standar Deviation Mean Price Distribution  \\\n",
              "0          1.350       0.463                    0.012                   0.825   \n",
              "1          1.449       0.399                    0.098                   0.763   \n",
              "2          1.760       0.419                    0.070                    0.97   \n",
              "3          1.509       0.432                    0.055                    0.83   \n",
              "4          1.400        0.24                    0.066                   0.941   \n",
              "\n",
              "  Default Price Distribution Minimum Price Distribution  \\\n",
              "0                       0.11                     0.4201   \n",
              "1                      0.088                     0.5013   \n",
              "2                      0.095                     0.5614   \n",
              "3                      0.119                     0.5991   \n",
              "4                      0.077                     0.7441   \n",
              "\n",
              "  Maximum Price Distribution Distribution Standard Deviation  M Factor  \\\n",
              "0                     0.9666                           0.133         5   \n",
              "1                       1.05                           0.115         5   \n",
              "2                      1.161                           0.098         5   \n",
              "3                    1.22242                           0.143         5   \n",
              "4                     1.0317                           0.082         5   \n",
              "\n",
              "   Region Code  State Code  Product Code  Unit Code Final Year Final Months  \n",
              "0            0           0             0          0       2004           05  \n",
              "1            0           1             0          0       2004           05  \n",
              "2            0           2             0          0       2004           05  \n",
              "3            0           3             0          0       2004           05  \n",
              "4            1           4             0          0       2004           05  "
            ],
            "text/html": [
              "\n",
              "  <div id=\"df-dc1b9a65-51b1-4886-b661-887d3582616e\">\n",
              "    <div class=\"colab-df-container\">\n",
              "      <div>\n",
              "<style scoped>\n",
              "    .dataframe tbody tr th:only-of-type {\n",
              "        vertical-align: middle;\n",
              "    }\n",
              "\n",
              "    .dataframe tbody tr th {\n",
              "        vertical-align: top;\n",
              "    }\n",
              "\n",
              "    .dataframe thead th {\n",
              "        text-align: right;\n",
              "    }\n",
              "</style>\n",
              "<table border=\"1\" class=\"dataframe\">\n",
              "  <thead>\n",
              "    <tr style=\"text-align: right;\">\n",
              "      <th></th>\n",
              "      <th>Number of searches</th>\n",
              "      <th>Mean Price</th>\n",
              "      <th>Default Price</th>\n",
              "      <th>Minimum Price</th>\n",
              "      <th>Maximum Price</th>\n",
              "      <th>Mean Margin</th>\n",
              "      <th>Price Standar Deviation</th>\n",
              "      <th>Mean Price Distribution</th>\n",
              "      <th>Default Price Distribution</th>\n",
              "      <th>Minimum Price Distribution</th>\n",
              "      <th>Maximum Price Distribution</th>\n",
              "      <th>Distribution Standard Deviation</th>\n",
              "      <th>M Factor</th>\n",
              "      <th>Region Code</th>\n",
              "      <th>State Code</th>\n",
              "      <th>Product Code</th>\n",
              "      <th>Unit Code</th>\n",
              "      <th>Final Year</th>\n",
              "      <th>Final Months</th>\n",
              "    </tr>\n",
              "  </thead>\n",
              "  <tbody>\n",
              "    <tr>\n",
              "      <th>0</th>\n",
              "      <td>127</td>\n",
              "      <td>1.288</td>\n",
              "      <td>0.016</td>\n",
              "      <td>1.19</td>\n",
              "      <td>1.350</td>\n",
              "      <td>0.463</td>\n",
              "      <td>0.012</td>\n",
              "      <td>0.825</td>\n",
              "      <td>0.11</td>\n",
              "      <td>0.4201</td>\n",
              "      <td>0.9666</td>\n",
              "      <td>0.133</td>\n",
              "      <td>5</td>\n",
              "      <td>0</td>\n",
              "      <td>0</td>\n",
              "      <td>0</td>\n",
              "      <td>0</td>\n",
              "      <td>2004</td>\n",
              "      <td>05</td>\n",
              "    </tr>\n",
              "    <tr>\n",
              "      <th>1</th>\n",
              "      <td>387</td>\n",
              "      <td>1.162</td>\n",
              "      <td>0.114</td>\n",
              "      <td>0.89</td>\n",
              "      <td>1.449</td>\n",
              "      <td>0.399</td>\n",
              "      <td>0.098</td>\n",
              "      <td>0.763</td>\n",
              "      <td>0.088</td>\n",
              "      <td>0.5013</td>\n",
              "      <td>1.05</td>\n",
              "      <td>0.115</td>\n",
              "      <td>5</td>\n",
              "      <td>0</td>\n",
              "      <td>1</td>\n",
              "      <td>0</td>\n",
              "      <td>0</td>\n",
              "      <td>2004</td>\n",
              "      <td>05</td>\n",
              "    </tr>\n",
              "    <tr>\n",
              "      <th>2</th>\n",
              "      <td>192</td>\n",
              "      <td>1.389</td>\n",
              "      <td>0.097</td>\n",
              "      <td>1.18</td>\n",
              "      <td>1.760</td>\n",
              "      <td>0.419</td>\n",
              "      <td>0.070</td>\n",
              "      <td>0.97</td>\n",
              "      <td>0.095</td>\n",
              "      <td>0.5614</td>\n",
              "      <td>1.161</td>\n",
              "      <td>0.098</td>\n",
              "      <td>5</td>\n",
              "      <td>0</td>\n",
              "      <td>2</td>\n",
              "      <td>0</td>\n",
              "      <td>0</td>\n",
              "      <td>2004</td>\n",
              "      <td>05</td>\n",
              "    </tr>\n",
              "    <tr>\n",
              "      <th>3</th>\n",
              "      <td>162</td>\n",
              "      <td>1.262</td>\n",
              "      <td>0.070</td>\n",
              "      <td>1.09</td>\n",
              "      <td>1.509</td>\n",
              "      <td>0.432</td>\n",
              "      <td>0.055</td>\n",
              "      <td>0.83</td>\n",
              "      <td>0.119</td>\n",
              "      <td>0.5991</td>\n",
              "      <td>1.22242</td>\n",
              "      <td>0.143</td>\n",
              "      <td>5</td>\n",
              "      <td>0</td>\n",
              "      <td>3</td>\n",
              "      <td>0</td>\n",
              "      <td>0</td>\n",
              "      <td>2004</td>\n",
              "      <td>05</td>\n",
              "    </tr>\n",
              "    <tr>\n",
              "      <th>4</th>\n",
              "      <td>103</td>\n",
              "      <td>1.181</td>\n",
              "      <td>0.078</td>\n",
              "      <td>1.05</td>\n",
              "      <td>1.400</td>\n",
              "      <td>0.24</td>\n",
              "      <td>0.066</td>\n",
              "      <td>0.941</td>\n",
              "      <td>0.077</td>\n",
              "      <td>0.7441</td>\n",
              "      <td>1.0317</td>\n",
              "      <td>0.082</td>\n",
              "      <td>5</td>\n",
              "      <td>1</td>\n",
              "      <td>4</td>\n",
              "      <td>0</td>\n",
              "      <td>0</td>\n",
              "      <td>2004</td>\n",
              "      <td>05</td>\n",
              "    </tr>\n",
              "  </tbody>\n",
              "</table>\n",
              "</div>\n",
              "      <button class=\"colab-df-convert\" onclick=\"convertToInteractive('df-dc1b9a65-51b1-4886-b661-887d3582616e')\"\n",
              "              title=\"Convert this dataframe to an interactive table.\"\n",
              "              style=\"display:none;\">\n",
              "        \n",
              "  <svg xmlns=\"http://www.w3.org/2000/svg\" height=\"24px\"viewBox=\"0 0 24 24\"\n",
              "       width=\"24px\">\n",
              "    <path d=\"M0 0h24v24H0V0z\" fill=\"none\"/>\n",
              "    <path d=\"M18.56 5.44l.94 2.06.94-2.06 2.06-.94-2.06-.94-.94-2.06-.94 2.06-2.06.94zm-11 1L8.5 8.5l.94-2.06 2.06-.94-2.06-.94L8.5 2.5l-.94 2.06-2.06.94zm10 10l.94 2.06.94-2.06 2.06-.94-2.06-.94-.94-2.06-.94 2.06-2.06.94z\"/><path d=\"M17.41 7.96l-1.37-1.37c-.4-.4-.92-.59-1.43-.59-.52 0-1.04.2-1.43.59L10.3 9.45l-7.72 7.72c-.78.78-.78 2.05 0 2.83L4 21.41c.39.39.9.59 1.41.59.51 0 1.02-.2 1.41-.59l7.78-7.78 2.81-2.81c.8-.78.8-2.07 0-2.86zM5.41 20L4 18.59l7.72-7.72 1.47 1.35L5.41 20z\"/>\n",
              "  </svg>\n",
              "      </button>\n",
              "      \n",
              "  <style>\n",
              "    .colab-df-container {\n",
              "      display:flex;\n",
              "      flex-wrap:wrap;\n",
              "      gap: 12px;\n",
              "    }\n",
              "\n",
              "    .colab-df-convert {\n",
              "      background-color: #E8F0FE;\n",
              "      border: none;\n",
              "      border-radius: 50%;\n",
              "      cursor: pointer;\n",
              "      display: none;\n",
              "      fill: #1967D2;\n",
              "      height: 32px;\n",
              "      padding: 0 0 0 0;\n",
              "      width: 32px;\n",
              "    }\n",
              "\n",
              "    .colab-df-convert:hover {\n",
              "      background-color: #E2EBFA;\n",
              "      box-shadow: 0px 1px 2px rgba(60, 64, 67, 0.3), 0px 1px 3px 1px rgba(60, 64, 67, 0.15);\n",
              "      fill: #174EA6;\n",
              "    }\n",
              "\n",
              "    [theme=dark] .colab-df-convert {\n",
              "      background-color: #3B4455;\n",
              "      fill: #D2E3FC;\n",
              "    }\n",
              "\n",
              "    [theme=dark] .colab-df-convert:hover {\n",
              "      background-color: #434B5C;\n",
              "      box-shadow: 0px 1px 3px 1px rgba(0, 0, 0, 0.15);\n",
              "      filter: drop-shadow(0px 1px 2px rgba(0, 0, 0, 0.3));\n",
              "      fill: #FFFFFF;\n",
              "    }\n",
              "  </style>\n",
              "\n",
              "      <script>\n",
              "        const buttonEl =\n",
              "          document.querySelector('#df-dc1b9a65-51b1-4886-b661-887d3582616e button.colab-df-convert');\n",
              "        buttonEl.style.display =\n",
              "          google.colab.kernel.accessAllowed ? 'block' : 'none';\n",
              "\n",
              "        async function convertToInteractive(key) {\n",
              "          const element = document.querySelector('#df-dc1b9a65-51b1-4886-b661-887d3582616e');\n",
              "          const dataTable =\n",
              "            await google.colab.kernel.invokeFunction('convertToInteractive',\n",
              "                                                     [key], {});\n",
              "          if (!dataTable) return;\n",
              "\n",
              "          const docLinkHtml = 'Like what you see? Visit the ' +\n",
              "            '<a target=\"_blank\" href=https://colab.research.google.com/notebooks/data_table.ipynb>data table notebook</a>'\n",
              "            + ' to learn more about interactive tables.';\n",
              "          element.innerHTML = '';\n",
              "          dataTable['output_type'] = 'display_data';\n",
              "          await google.colab.output.renderOutput(dataTable, element);\n",
              "          const docLink = document.createElement('div');\n",
              "          docLink.innerHTML = docLinkHtml;\n",
              "          element.appendChild(docLink);\n",
              "        }\n",
              "      </script>\n",
              "    </div>\n",
              "  </div>\n",
              "  "
            ]
          },
          "metadata": {},
          "execution_count": 32
        }
      ],
      "source": [
        "data.head()"
      ]
    },
    {
      "cell_type": "markdown",
      "metadata": {
        "id": "JVcFKeg2J1_L"
      },
      "source": [
        "\n",
        "______\n",
        "\n",
        "# Representing Data\n",
        "\n",
        "let's have a quick look to few features distribution , using countplot tool from Seaborn library . .\n",
        "\n",
        "\n",
        "here for Region Code"
      ]
    },
    {
      "cell_type": "code",
      "execution_count": null,
      "metadata": {
        "colab": {
          "base_uri": "https://localhost:8080/",
          "height": 475
        },
        "id": "IJLDFpRlJ1_R",
        "outputId": "63aa988d-8e19-4122-f3b2-9df2130b386b"
      },
      "outputs": [
        {
          "output_type": "execute_result",
          "data": {
            "text/plain": [
              "<Axes: xlabel='Region Code', ylabel='count'>"
            ]
          },
          "metadata": {},
          "execution_count": 33
        },
        {
          "output_type": "display_data",
          "data": {
            "text/plain": [
              "<Figure size 640x480 with 1 Axes>"
            ],
            "image/png": "[encoded data removed]"
          },
          "metadata": {}
        }
      ],
      "source": [
        "sns.countplot(x=\"Region Code\", data=data,facecolor=(0, 0, 0, 0),linewidth=5,edgecolor=sns.color_palette(\"dark\", 3))"
      ]
    },
    {
      "cell_type": "markdown",
      "metadata": {
        "id": "wYYI-zAzJ1_Z"
      },
      "source": [
        "\n",
        "\n",
        "and here for State "
      ]
    },
    {
      "cell_type": "code",
      "execution_count": null,
      "metadata": {
        "colab": {
          "base_uri": "https://localhost:8080/",
          "height": 475
        },
        "id": "Y1I46VqqJ1_i",
        "outputId": "73221450-e99e-4951-cf0e-9d0256967c58"
      },
      "outputs": [
        {
          "output_type": "execute_result",
          "data": {
            "text/plain": [
              "<Axes: xlabel='State Code', ylabel='count'>"
            ]
          },
          "metadata": {},
          "execution_count": 34
        },
        {
          "output_type": "display_data",
          "data": {
            "text/plain": [
              "<Figure size 640x480 with 1 Axes>"
            ],
            "image/png": "[encoded data removed]"
          },
          "metadata": {}
        }
      ],
      "source": [
        "sns.countplot(x=\"State Code\", data=data,facecolor=(0, 0, 0, 0),linewidth=5,edgecolor=sns.color_palette(\"dark\", 3))"
      ]
    },
    {
      "cell_type": "markdown",
      "metadata": {
        "id": "Mts1YIxCJ1_r"
      },
      "source": [
        "\n",
        "then the Product"
      ]
    },
    {
      "cell_type": "code",
      "execution_count": null,
      "metadata": {
        "colab": {
          "base_uri": "https://localhost:8080/",
          "height": 475
        },
        "id": "YOQo2NR_J1_t",
        "outputId": "58c4790d-0a0e-480d-b77b-dbbabd43c2f8"
      },
      "outputs": [
        {
          "output_type": "execute_result",
          "data": {
            "text/plain": [
              "<Axes: xlabel='Product Code', ylabel='count'>"
            ]
          },
          "metadata": {},
          "execution_count": 35
        },
        {
          "output_type": "display_data",
          "data": {
            "text/plain": [
              "<Figure size 640x480 with 1 Axes>"
            ],
            "image/png": "[encoded data removed]"
          },
          "metadata": {}
        }
      ],
      "source": [
        "sns.countplot(x=\"Product Code\", data=data,facecolor=(0, 0, 0, 0),linewidth=5,edgecolor=sns.color_palette(\"dark\", 3))"
      ]
    },
    {
      "cell_type": "markdown",
      "metadata": {
        "id": "dKy30sEAJ1_1"
      },
      "source": [
        "\n",
        "and for the Year"
      ]
    },
    {
      "cell_type": "code",
      "execution_count": null,
      "metadata": {
        "colab": {
          "base_uri": "https://localhost:8080/",
          "height": 475
        },
        "id": "CZ-M2qJ3J1_4",
        "outputId": "bb8fec91-2672-4f46-d360-e70add860841"
      },
      "outputs": [
        {
          "output_type": "execute_result",
          "data": {
            "text/plain": [
              "<Axes: xlabel='Final Year', ylabel='count'>"
            ]
          },
          "metadata": {},
          "execution_count": 36
        },
        {
          "output_type": "display_data",
          "data": {
            "text/plain": [
              "<Figure size 640x480 with 1 Axes>"
            ],
            "image/png": "[encoded data removed]"
          },
          "metadata": {}
        }
      ],
      "source": [
        "sns.countplot(x=\"Final Year\", data=data,facecolor=(0, 0, 0, 0),linewidth=5,edgecolor=sns.color_palette(\"dark\", 3))"
      ]
    },
    {
      "cell_type": "markdown",
      "metadata": {
        "id": "dRMSmtv0J1__"
      },
      "source": [
        "\n",
        "_____________\n",
        "\n",
        "# Splitting Data\n",
        "\n",
        "\n",
        "now lets use determine X & y data , then use Sklearn , to split the data into Train & test\n"
      ]
    },
    {
      "cell_type": "code",
      "execution_count": null,
      "metadata": {
        "colab": {
          "base_uri": "https://localhost:8080/",
          "height": 322
        },
        "id": "Fxajrj_2J2AD",
        "outputId": "2ef39a71-7c80-4ba6-fddd-46433118e5ad"
      },
      "outputs": [
        {
          "output_type": "stream",
          "name": "stdout",
          "text": [
            "X shape is  (65534, 18)\n"
          ]
        },
        {
          "output_type": "execute_result",
          "data": {
            "text/plain": [
              "   Number of searches  Default Price  Minimum Price  Maximum Price  \\\n",
              "0                 127          0.016           1.19          1.350   \n",
              "1                 387          0.114           0.89          1.449   \n",
              "2                 192          0.097           1.18          1.760   \n",
              "3                 162          0.070           1.09          1.509   \n",
              "4                 103          0.078           1.05          1.400   \n",
              "\n",
              "  Mean Margin  Price Standar Deviation Mean Price Distribution  \\\n",
              "0       0.463                    0.012                   0.825   \n",
              "1       0.399                    0.098                   0.763   \n",
              "2       0.419                    0.070                    0.97   \n",
              "3       0.432                    0.055                    0.83   \n",
              "4        0.24                    0.066                   0.941   \n",
              "\n",
              "  Default Price Distribution Minimum Price Distribution  \\\n",
              "0                       0.11                     0.4201   \n",
              "1                      0.088                     0.5013   \n",
              "2                      0.095                     0.5614   \n",
              "3                      0.119                     0.5991   \n",
              "4                      0.077                     0.7441   \n",
              "\n",
              "  Maximum Price Distribution Distribution Standard Deviation  M Factor  \\\n",
              "0                     0.9666                           0.133         5   \n",
              "1                       1.05                           0.115         5   \n",
              "2                      1.161                           0.098         5   \n",
              "3                    1.22242                           0.143         5   \n",
              "4                     1.0317                           0.082         5   \n",
              "\n",
              "   Region Code  State Code  Product Code  Unit Code Final Year Final Months  \n",
              "0            0           0             0          0       2004           05  \n",
              "1            0           1             0          0       2004           05  \n",
              "2            0           2             0          0       2004           05  \n",
              "3            0           3             0          0       2004           05  \n",
              "4            1           4             0          0       2004           05  "
            ],
            "text/html": [
              "\n",
              "  <div id=\"df-72613956-2c06-4216-a867-167632a7ebdb\">\n",
              "    <div class=\"colab-df-container\">\n",
              "      <div>\n",
              "<style scoped>\n",
              "    .dataframe tbody tr th:only-of-type {\n",
              "        vertical-align: middle;\n",
              "    }\n",
              "\n",
              "    .dataframe tbody tr th {\n",
              "        vertical-align: top;\n",
              "    }\n",
              "\n",
              "    .dataframe thead th {\n",
              "        text-align: right;\n",
              "    }\n",
              "</style>\n",
              "<table border=\"1\" class=\"dataframe\">\n",
              "  <thead>\n",
              "    <tr style=\"text-align: right;\">\n",
              "      <th></th>\n",
              "      <th>Number of searches</th>\n",
              "      <th>Default Price</th>\n",
              "      <th>Minimum Price</th>\n",
              "      <th>Maximum Price</th>\n",
              "      <th>Mean Margin</th>\n",
              "      <th>Price Standar Deviation</th>\n",
              "      <th>Mean Price Distribution</th>\n",
              "      <th>Default Price Distribution</th>\n",
              "      <th>Minimum Price Distribution</th>\n",
              "      <th>Maximum Price Distribution</th>\n",
              "      <th>Distribution Standard Deviation</th>\n",
              "      <th>M Factor</th>\n",
              "      <th>Region Code</th>\n",
              "      <th>State Code</th>\n",
              "      <th>Product Code</th>\n",
              "      <th>Unit Code</th>\n",
              "      <th>Final Year</th>\n",
              "      <th>Final Months</th>\n",
              "    </tr>\n",
              "  </thead>\n",
              "  <tbody>\n",
              "    <tr>\n",
              "      <th>0</th>\n",
              "      <td>127</td>\n",
              "      <td>0.016</td>\n",
              "      <td>1.19</td>\n",
              "      <td>1.350</td>\n",
              "      <td>0.463</td>\n",
              "      <td>0.012</td>\n",
              "      <td>0.825</td>\n",
              "      <td>0.11</td>\n",
              "      <td>0.4201</td>\n",
              "      <td>0.9666</td>\n",
              "      <td>0.133</td>\n",
              "      <td>5</td>\n",
              "      <td>0</td>\n",
              "      <td>0</td>\n",
              "      <td>0</td>\n",
              "      <td>0</td>\n",
              "      <td>2004</td>\n",
              "      <td>05</td>\n",
              "    </tr>\n",
              "    <tr>\n",
              "      <th>1</th>\n",
              "      <td>387</td>\n",
              "      <td>0.114</td>\n",
              "      <td>0.89</td>\n",
              "      <td>1.449</td>\n",
              "      <td>0.399</td>\n",
              "      <td>0.098</td>\n",
              "      <td>0.763</td>\n",
              "      <td>0.088</td>\n",
              "      <td>0.5013</td>\n",
              "      <td>1.05</td>\n",
              "      <td>0.115</td>\n",
              "      <td>5</td>\n",
              "      <td>0</td>\n",
              "      <td>1</td>\n",
              "      <td>0</td>\n",
              "      <td>0</td>\n",
              "      <td>2004</td>\n",
              "      <td>05</td>\n",
              "    </tr>\n",
              "    <tr>\n",
              "      <th>2</th>\n",
              "      <td>192</td>\n",
              "      <td>0.097</td>\n",
              "      <td>1.18</td>\n",
              "      <td>1.760</td>\n",
              "      <td>0.419</td>\n",
              "      <td>0.070</td>\n",
              "      <td>0.97</td>\n",
              "      <td>0.095</td>\n",
              "      <td>0.5614</td>\n",
              "      <td>1.161</td>\n",
              "      <td>0.098</td>\n",
              "      <td>5</td>\n",
              "      <td>0</td>\n",
              "      <td>2</td>\n",
              "      <td>0</td>\n",
              "      <td>0</td>\n",
              "      <td>2004</td>\n",
              "      <td>05</td>\n",
              "    </tr>\n",
              "    <tr>\n",
              "      <th>3</th>\n",
              "      <td>162</td>\n",
              "      <td>0.070</td>\n",
              "      <td>1.09</td>\n",
              "      <td>1.509</td>\n",
              "      <td>0.432</td>\n",
              "      <td>0.055</td>\n",
              "      <td>0.83</td>\n",
              "      <td>0.119</td>\n",
              "      <td>0.5991</td>\n",
              "      <td>1.22242</td>\n",
              "      <td>0.143</td>\n",
              "      <td>5</td>\n",
              "      <td>0</td>\n",
              "      <td>3</td>\n",
              "      <td>0</td>\n",
              "      <td>0</td>\n",
              "      <td>2004</td>\n",
              "      <td>05</td>\n",
              "    </tr>\n",
              "    <tr>\n",
              "      <th>4</th>\n",
              "      <td>103</td>\n",
              "      <td>0.078</td>\n",
              "      <td>1.05</td>\n",
              "      <td>1.400</td>\n",
              "      <td>0.24</td>\n",
              "      <td>0.066</td>\n",
              "      <td>0.941</td>\n",
              "      <td>0.077</td>\n",
              "      <td>0.7441</td>\n",
              "      <td>1.0317</td>\n",
              "      <td>0.082</td>\n",
              "      <td>5</td>\n",
              "      <td>1</td>\n",
              "      <td>4</td>\n",
              "      <td>0</td>\n",
              "      <td>0</td>\n",
              "      <td>2004</td>\n",
              "      <td>05</td>\n",
              "    </tr>\n",
              "  </tbody>\n",
              "</table>\n",
              "</div>\n",
              "      <button class=\"colab-df-convert\" onclick=\"convertToInteractive('df-72613956-2c06-4216-a867-167632a7ebdb')\"\n",
              "              title=\"Convert this dataframe to an interactive table.\"\n",
              "              style=\"display:none;\">\n",
              "        \n",
              "  <svg xmlns=\"http://www.w3.org/2000/svg\" height=\"24px\"viewBox=\"0 0 24 24\"\n",
              "       width=\"24px\">\n",
              "    <path d=\"M0 0h24v24H0V0z\" fill=\"none\"/>\n",
              "    <path d=\"M18.56 5.44l.94 2.06.94-2.06 2.06-.94-2.06-.94-.94-2.06-.94 2.06-2.06.94zm-11 1L8.5 8.5l.94-2.06 2.06-.94-2.06-.94L8.5 2.5l-.94 2.06-2.06.94zm10 10l.94 2.06.94-2.06 2.06-.94-2.06-.94-.94-2.06-.94 2.06-2.06.94z\"/><path d=\"M17.41 7.96l-1.37-1.37c-.4-.4-.92-.59-1.43-.59-.52 0-1.04.2-1.43.59L10.3 9.45l-7.72 7.72c-.78.78-.78 2.05 0 2.83L4 21.41c.39.39.9.59 1.41.59.51 0 1.02-.2 1.41-.59l7.78-7.78 2.81-2.81c.8-.78.8-2.07 0-2.86zM5.41 20L4 18.59l7.72-7.72 1.47 1.35L5.41 20z\"/>\n",
              "  </svg>\n",
              "      </button>\n",
              "      \n",
              "  <style>\n",
              "    .colab-df-container {\n",
              "      display:flex;\n",
              "      flex-wrap:wrap;\n",
              "      gap: 12px;\n",
              "    }\n",
              "\n",
              "    .colab-df-convert {\n",
              "      background-color: #E8F0FE;\n",
              "      border: none;\n",
              "      border-radius: 50%;\n",
              "      cursor: pointer;\n",
              "      display: none;\n",
              "      fill: #1967D2;\n",
              "      height: 32px;\n",
              "      padding: 0 0 0 0;\n",
              "      width: 32px;\n",
              "    }\n",
              "\n",
              "    .colab-df-convert:hover {\n",
              "      background-color: #E2EBFA;\n",
              "      box-shadow: 0px 1px 2px rgba(60, 64, 67, 0.3), 0px 1px 3px 1px rgba(60, 64, 67, 0.15);\n",
              "      fill: #174EA6;\n",
              "    }\n",
              "\n",
              "    [theme=dark] .colab-df-convert {\n",
              "      background-color: #3B4455;\n",
              "      fill: #D2E3FC;\n",
              "    }\n",
              "\n",
              "    [theme=dark] .colab-df-convert:hover {\n",
              "      background-color: #434B5C;\n",
              "      box-shadow: 0px 1px 3px 1px rgba(0, 0, 0, 0.15);\n",
              "      filter: drop-shadow(0px 1px 2px rgba(0, 0, 0, 0.3));\n",
              "      fill: #FFFFFF;\n",
              "    }\n",
              "  </style>\n",
              "\n",
              "      <script>\n",
              "        const buttonEl =\n",
              "          document.querySelector('#df-72613956-2c06-4216-a867-167632a7ebdb button.colab-df-convert');\n",
              "        buttonEl.style.display =\n",
              "          google.colab.kernel.accessAllowed ? 'block' : 'none';\n",
              "\n",
              "        async function convertToInteractive(key) {\n",
              "          const element = document.querySelector('#df-72613956-2c06-4216-a867-167632a7ebdb');\n",
              "          const dataTable =\n",
              "            await google.colab.kernel.invokeFunction('convertToInteractive',\n",
              "                                                     [key], {});\n",
              "          if (!dataTable) return;\n",
              "\n",
              "          const docLinkHtml = 'Like what you see? Visit the ' +\n",
              "            '<a target=\"_blank\" href=https://colab.research.google.com/notebooks/data_table.ipynb>data table notebook</a>'\n",
              "            + ' to learn more about interactive tables.';\n",
              "          element.innerHTML = '';\n",
              "          dataTable['output_type'] = 'display_data';\n",
              "          await google.colab.output.renderOutput(dataTable, element);\n",
              "          const docLink = document.createElement('div');\n",
              "          docLink.innerHTML = docLinkHtml;\n",
              "          element.appendChild(docLink);\n",
              "        }\n",
              "      </script>\n",
              "    </div>\n",
              "  </div>\n",
              "  "
            ]
          },
          "metadata": {},
          "execution_count": 37
        }
      ],
      "source": [
        "X = data.drop(['Mean Price'], axis=1, inplace=False)\n",
        "print('X shape is ' , X.shape)\n",
        "X.head()"
      ]
    },
    {
      "cell_type": "code",
      "execution_count": null,
      "metadata": {
        "colab": {
          "base_uri": "https://localhost:8080/"
        },
        "id": "Qd0JJecQJ2AN",
        "outputId": "f92ba65a-3453-415c-c5b2-e52323b1f299"
      },
      "outputs": [
        {
          "output_type": "stream",
          "name": "stdout",
          "text": [
            "y shape is  (65534,)\n"
          ]
        },
        {
          "output_type": "execute_result",
          "data": {
            "text/plain": [
              "0    1.288\n",
              "1    1.162\n",
              "2    1.389\n",
              "3    1.262\n",
              "4    1.181\n",
              "Name: Mean Price, dtype: float64"
            ]
          },
          "metadata": {},
          "execution_count": 38
        }
      ],
      "source": [
        "y = data['Mean Price']\n",
        "\n",
        "print('y shape is ' , y.shape)\n",
        "y.head()\n"
      ]
    },
    {
      "cell_type": "markdown",
      "metadata": {
        "id": "QhP-w_4eJ2AZ"
      },
      "source": [
        "___\n",
        "\n",
        "then split it"
      ]
    },
    {
      "cell_type": "code",
      "execution_count": null,
      "metadata": {
        "colab": {
          "base_uri": "https://localhost:8080/"
        },
        "id": "PmQB05OxJ2Ah",
        "outputId": "b0d1de61-7d84-4790-8f95-288452e5915d"
      },
      "outputs": [
        {
          "output_type": "stream",
          "name": "stdout",
          "text": [
            "X_train shape is  (49150, 18)\n",
            "X_test shape is  (16384, 18)\n",
            "y_train shape is  (49150,)\n",
            "y_test shape is  (16384,)\n"
          ]
        }
      ],
      "source": [
        "X_train, X_test, y_train, y_test = train_test_split(X, y, test_size=0.25, random_state=44, shuffle =True)\n",
        "\n",
        "\n",
        "print('X_train shape is ' , X_train.shape)\n",
        "print('X_test shape is ' , X_test.shape)\n",
        "print('y_train shape is ' , y_train.shape)\n",
        "print('y_test shape is ' , y_test.shape)"
      ]
    },
    {
      "cell_type": "markdown",
      "metadata": {
        "id": "sZh6Oq9FJ2BK"
      },
      "source": [
        "____\n",
        "\n",
        "# Building the Model\n",
        "\n",
        "let's use 3 regerssion Models using Sklearn , to check which is suitable . . \n",
        "\n",
        "first use Linear Regression\n",
        "\n"
      ]
    },
    {
      "cell_type": "markdown",
      "metadata": {
        "id": "riQ5P2hjJ2BT"
      },
      "source": [
        "____\n",
        "\n",
        "now how about the Train & Test Scores ? \n"
      ]
    },
    {
      "cell_type": "code",
      "execution_count": null,
      "metadata": {
        "colab": {
          "base_uri": "https://localhost:8080/"
        },
        "id": "hc28CtgLFhKr",
        "outputId": "015146fb-12e1-4f73-98e4-c21aa038f511"
      },
      "outputs": [
        {
          "output_type": "stream",
          "name": "stdout",
          "text": [
            "       Number of searches  Default Price  Minimum Price  Maximum Price  \\\n",
            "26524                1475          1.725         26.000         37.000   \n",
            "35258                 115          1.118         30.000         37.000   \n",
            "4012                 1077          0.126          1.440          2.260   \n",
            "12887                  51          0.129          2.370          2.900   \n",
            "64746                  95          0.168          1.539          2.899   \n",
            "...                   ...            ...            ...            ...   \n",
            "49723                 599          0.067          1.949          2.399   \n",
            "25773                 396          1.655         24.900         35.000   \n",
            "60145                 720          3.059         31.000         50.000   \n",
            "3491                    7          0.118          2.050          2.300   \n",
            "14100                  46          0.171          2.730          3.300   \n",
            "\n",
            "      Mean Margin  Price Standar Deviation Mean Price Distribution  \\\n",
            "26524       5.678                    0.056                  24.915   \n",
            "35258        6.11                    0.033                  28.061   \n",
            "4012        0.213                    0.070                   1.576   \n",
            "12887       0.292                    0.052                   2.174   \n",
            "64746       0.315                    0.097                   1.425   \n",
            "...           ...                      ...                     ...   \n",
            "49723       0.185                    0.032                   1.892   \n",
            "25773        4.43                    0.056                  24.967   \n",
            "60145      10.145                    0.073                  31.855   \n",
            "3491        0.275                    0.056                   1.837   \n",
            "14100       0.484                    0.061                   2.327   \n",
            "\n",
            "      Default Price Distribution Minimum Price Distribution  \\\n",
            "26524                      1.836                       20.8   \n",
            "35258                      2.398                         22   \n",
            "4012                       0.086                       1.26   \n",
            "12887                      0.063                    1.97456   \n",
            "64746                      0.178                     1.0323   \n",
            "...                          ...                        ...   \n",
            "49723                      0.028                     1.8031   \n",
            "25773                       1.95                       20.5   \n",
            "60145                      3.363                    17.9671   \n",
            "3491                       0.008                     1.8298   \n",
            "14100                      0.104                      2.141   \n",
            "\n",
            "      Maximum Price Distribution Distribution Standard Deviation  M Factor  \\\n",
            "26524                      31.55                           0.074         1   \n",
            "35258                      32.03                           0.085         4   \n",
            "4012                      1.8791                           0.055         3   \n",
            "12887                     2.2869                           0.029        12   \n",
            "64746                      1.877                           0.125         2   \n",
            "...                          ...                             ...       ...   \n",
            "49723                     1.9954                           0.015        10   \n",
            "25773                       27.4                           0.078         7   \n",
            "60145                       40.5                           0.106         7   \n",
            "3491                       1.845                           0.004        11   \n",
            "14100                     2.5733                           0.045        10   \n",
            "\n",
            "       Region Code  State Code  Product Code  Unit Code Final Year  \\\n",
            "26524            3          21             2          1       2006   \n",
            "35258            1           8             2          1       2012   \n",
            "4012             3          22             0          0       2007   \n",
            "12887            2          14             1          0       2004   \n",
            "64746            3          23             3          2       2014   \n",
            "...            ...         ...           ...        ...        ...   \n",
            "49723            3          22             4          0       2008   \n",
            "25773            3          22             2          1       2005   \n",
            "60145            4          25             2          1       2013   \n",
            "3491             2          14             0          0       2006   \n",
            "14100            2          13             1          0       2005   \n",
            "\n",
            "      Final Months  \n",
            "26524           02  \n",
            "35258           05  \n",
            "4012            03  \n",
            "12887           12  \n",
            "64746           02  \n",
            "...            ...  \n",
            "49723           10  \n",
            "25773           07  \n",
            "60145           07  \n",
            "3491            11  \n",
            "14100           11  \n",
            "\n",
            "[49150 rows x 18 columns]\n"
          ]
        }
      ],
      "source": [
        "print (X_train)"
      ]
    },
    {
      "cell_type": "code",
      "execution_count": null,
      "metadata": {
        "colab": {
          "base_uri": "https://localhost:8080/",
          "height": 75
        },
        "id": "j7QjwZKsJ2BM",
        "outputId": "9fd1d646-e204-43b5-c440-42246d762bc4"
      },
      "outputs": [
        {
          "output_type": "execute_result",
          "data": {
            "text/plain": [
              "LinearRegression(n_jobs=-1)"
            ],
            "text/html": [
              "<style>#sk-container-id-1 {color: black;background-color: white;}#sk-container-id-1 pre{padding: 0;}#sk-container-id-1 div.sk-toggleable {background-color: white;}#sk-container-id-1 label.sk-toggleable__label {cursor: pointer;display: block;width: 100%;margin-bottom: 0;padding: 0.3em;box-sizing: border-box;text-align: center;}#sk-container-id-1 label.sk-toggleable__label-arrow:before {content: \"▸\";float: left;margin-right: 0.25em;color: #696969;}#sk-container-id-1 label.sk-toggleable__label-arrow:hover:before {color: black;}#sk-container-id-1 div.sk-estimator:hover label.sk-toggleable__label-arrow:before {color: black;}#sk-container-id-1 div.sk-toggleable__content {max-height: 0;max-width: 0;overflow: hidden;text-align: left;background-color: #f0f8ff;}#sk-container-id-1 div.sk-toggleable__content pre {margin: 0.2em;color: black;border-radius: 0.25em;background-color: #f0f8ff;}#sk-container-id-1 input.sk-toggleable__control:checked~div.sk-toggleable__content {max-height: 200px;max-width: 100%;overflow: auto;}#sk-container-id-1 input.sk-toggleable__control:checked~label.sk-toggleable__label-arrow:before {content: \"▾\";}#sk-container-id-1 div.sk-estimator input.sk-toggleable__control:checked~label.sk-toggleable__label {background-color: #d4ebff;}#sk-container-id-1 div.sk-label input.sk-toggleable__control:checked~label.sk-toggleable__label {background-color: #d4ebff;}#sk-container-id-1 input.sk-hidden--visually {border: 0;clip: rect(1px 1px 1px 1px);clip: rect(1px, 1px, 1px, 1px);height: 1px;margin: -1px;overflow: hidden;padding: 0;position: absolute;width: 1px;}#sk-container-id-1 div.sk-estimator {font-family: monospace;background-color: #f0f8ff;border: 1px dotted black;border-radius: 0.25em;box-sizing: border-box;margin-bottom: 0.5em;}#sk-container-id-1 div.sk-estimator:hover {background-color: #d4ebff;}#sk-container-id-1 div.sk-parallel-item::after {content: \"\";width: 100%;border-bottom: 1px solid gray;flex-grow: 1;}#sk-container-id-1 div.sk-label:hover label.sk-toggleable__label {background-color: #d4ebff;}#sk-container-id-1 div.sk-serial::before {content: \"\";position: absolute;border-left: 1px solid gray;box-sizing: border-box;top: 0;bottom: 0;left: 50%;z-index: 0;}#sk-container-id-1 div.sk-serial {display: flex;flex-direction: column;align-items: center;background-color: white;padding-right: 0.2em;padding-left: 0.2em;position: relative;}#sk-container-id-1 div.sk-item {position: relative;z-index: 1;}#sk-container-id-1 div.sk-parallel {display: flex;align-items: stretch;justify-content: center;background-color: white;position: relative;}#sk-container-id-1 div.sk-item::before, #sk-container-id-1 div.sk-parallel-item::before {content: \"\";position: absolute;border-left: 1px solid gray;box-sizing: border-box;top: 0;bottom: 0;left: 50%;z-index: -1;}#sk-container-id-1 div.sk-parallel-item {display: flex;flex-direction: column;z-index: 1;position: relative;background-color: white;}#sk-container-id-1 div.sk-parallel-item:first-child::after {align-self: flex-end;width: 50%;}#sk-container-id-1 div.sk-parallel-item:last-child::after {align-self: flex-start;width: 50%;}#sk-container-id-1 div.sk-parallel-item:only-child::after {width: 0;}#sk-container-id-1 div.sk-dashed-wrapped {border: 1px dashed gray;margin: 0 0.4em 0.5em 0.4em;box-sizing: border-box;padding-bottom: 0.4em;background-color: white;}#sk-container-id-1 div.sk-label label {font-family: monospace;font-weight: bold;display: inline-block;line-height: 1.2em;}#sk-container-id-1 div.sk-label-container {text-align: center;}#sk-container-id-1 div.sk-container {/* jupyter's `normalize.less` sets `[hidden] { display: none; }` but bootstrap.min.css set `[hidden] { display: none !important; }` so we also need the `!important` here to be able to override the default hidden behavior on the sphinx rendered scikit-learn.org. See: https://github.com/scikit-learn/scikit-learn/issues/21755 */display: inline-block !important;position: relative;}#sk-container-id-1 div.sk-text-repr-fallback {display: none;}</style><div id=\"sk-container-id-1\" class=\"sk-top-container\"><div class=\"sk-text-repr-fallback\"><pre>LinearRegression(n_jobs=-1)</pre><b>In a Jupyter environment, please rerun this cell to show the HTML representation or trust the notebook. <br />On GitHub, the HTML representation is unable to render, please try loading this page with nbviewer.org.</b></div><div class=\"sk-container\" hidden><div class=\"sk-item\"><div class=\"sk-estimator sk-toggleable\"><input class=\"sk-toggleable__control sk-hidden--visually\" id=\"sk-estimator-id-1\" type=\"checkbox\" checked><label for=\"sk-estimator-id-1\" class=\"sk-toggleable__label sk-toggleable__label-arrow\">LinearRegression</label><div class=\"sk-toggleable__content\"><pre>LinearRegression(n_jobs=-1)</pre></div></div></div></div></div>"
            ]
          },
          "metadata": {},
          "execution_count": 41
        }
      ],
      "source": [
        "LinearRegressionModel = LinearRegression(fit_intercept=True,copy_X=True,n_jobs=-1)\n",
        "LinearRegressionModel.fit(X_train, y_train)"
      ]
    },
    {
      "cell_type": "code",
      "execution_count": null,
      "metadata": {
        "colab": {
          "base_uri": "https://localhost:8080/"
        },
        "id": "dkpVhxJgJ2BW",
        "outputId": "a45299d0-633d-4e6c-b7b2-66fe9a8c5805"
      },
      "outputs": [
        {
          "output_type": "stream",
          "name": "stdout",
          "text": [
            "Linear Regression Train Score is :  0.9984663922036023\n",
            "Linear Regression Test Score is :  0.9985163318823426\n"
          ]
        }
      ],
      "source": [
        "#Calculating Details\n",
        "print('Linear Regression Train Score is : ' , LinearRegressionModel.score(X_train, y_train))\n",
        "print('Linear Regression Test Score is : ' , LinearRegressionModel.score(X_test, y_test))\n"
      ]
    },
    {
      "cell_type": "markdown",
      "metadata": {
        "id": "7d20RSRqJ2Bg"
      },
      "source": [
        "\n",
        "_____\n",
        "\n",
        "looks great which might refer to some kind of overfitt , now lets check predicted values"
      ]
    },
    {
      "cell_type": "code",
      "execution_count": null,
      "metadata": {
        "colab": {
          "base_uri": "https://localhost:8080/"
        },
        "id": "Hv6iLyVFJ2Bi",
        "outputId": "9e5c2071-1693-4c5e-c68f-d22010bca570"
      },
      "outputs": [
        {
          "output_type": "stream",
          "name": "stdout",
          "text": [
            "Predicted Value for Linear Regression is :  [38.69705869 40.50106793  2.67158521  2.11160523  1.64262891  2.75695631\n",
            "  1.481403    2.92850533 32.54062596  2.37254354]\n"
          ]
        }
      ],
      "source": [
        "y_pred = LinearRegressionModel.predict(X_test)\n",
        "print('Predicted Value for Linear Regression is : ' , y_pred[:10])"
      ]
    },
    {
      "cell_type": "markdown",
      "metadata": {
        "id": "JO1xPO7rJ2Bt"
      },
      "source": [
        "____\n",
        "\n",
        "now lets move to SVR Model (this will take few mins)\n"
      ]
    },
    {
      "cell_type": "code",
      "execution_count": null,
      "metadata": {
        "colab": {
          "base_uri": "https://localhost:8080/",
          "height": 75
        },
        "id": "hExXdgjrJ2Bx",
        "outputId": "45f3af3e-13da-43bc-9a75-ba241947f456"
      },
      "outputs": [
        {
          "output_type": "execute_result",
          "data": {
            "text/plain": [
              "SVR(epsilon=1)"
            ],
            "text/html": [
              "<style>#sk-container-id-2 {color: black;background-color: white;}#sk-container-id-2 pre{padding: 0;}#sk-container-id-2 div.sk-toggleable {background-color: white;}#sk-container-id-2 label.sk-toggleable__label {cursor: pointer;display: block;width: 100%;margin-bottom: 0;padding: 0.3em;box-sizing: border-box;text-align: center;}#sk-container-id-2 label.sk-toggleable__label-arrow:before {content: \"▸\";float: left;margin-right: 0.25em;color: #696969;}#sk-container-id-2 label.sk-toggleable__label-arrow:hover:before {color: black;}#sk-container-id-2 div.sk-estimator:hover label.sk-toggleable__label-arrow:before {color: black;}#sk-container-id-2 div.sk-toggleable__content {max-height: 0;max-width: 0;overflow: hidden;text-align: left;background-color: #f0f8ff;}#sk-container-id-2 div.sk-toggleable__content pre {margin: 0.2em;color: black;border-radius: 0.25em;background-color: #f0f8ff;}#sk-container-id-2 input.sk-toggleable__control:checked~div.sk-toggleable__content {max-height: 200px;max-width: 100%;overflow: auto;}#sk-container-id-2 input.sk-toggleable__control:checked~label.sk-toggleable__label-arrow:before {content: \"▾\";}#sk-container-id-2 div.sk-estimator input.sk-toggleable__control:checked~label.sk-toggleable__label {background-color: #d4ebff;}#sk-container-id-2 div.sk-label input.sk-toggleable__control:checked~label.sk-toggleable__label {background-color: #d4ebff;}#sk-container-id-2 input.sk-hidden--visually {border: 0;clip: rect(1px 1px 1px 1px);clip: rect(1px, 1px, 1px, 1px);height: 1px;margin: -1px;overflow: hidden;padding: 0;position: absolute;width: 1px;}#sk-container-id-2 div.sk-estimator {font-family: monospace;background-color: #f0f8ff;border: 1px dotted black;border-radius: 0.25em;box-sizing: border-box;margin-bottom: 0.5em;}#sk-container-id-2 div.sk-estimator:hover {background-color: #d4ebff;}#sk-container-id-2 div.sk-parallel-item::after {content: \"\";width: 100%;border-bottom: 1px solid gray;flex-grow: 1;}#sk-container-id-2 div.sk-label:hover label.sk-toggleable__label {background-color: #d4ebff;}#sk-container-id-2 div.sk-serial::before {content: \"\";position: absolute;border-left: 1px solid gray;box-sizing: border-box;top: 0;bottom: 0;left: 50%;z-index: 0;}#sk-container-id-2 div.sk-serial {display: flex;flex-direction: column;align-items: center;background-color: white;padding-right: 0.2em;padding-left: 0.2em;position: relative;}#sk-container-id-2 div.sk-item {position: relative;z-index: 1;}#sk-container-id-2 div.sk-parallel {display: flex;align-items: stretch;justify-content: center;background-color: white;position: relative;}#sk-container-id-2 div.sk-item::before, #sk-container-id-2 div.sk-parallel-item::before {content: \"\";position: absolute;border-left: 1px solid gray;box-sizing: border-box;top: 0;bottom: 0;left: 50%;z-index: -1;}#sk-container-id-2 div.sk-parallel-item {display: flex;flex-direction: column;z-index: 1;position: relative;background-color: white;}#sk-container-id-2 div.sk-parallel-item:first-child::after {align-self: flex-end;width: 50%;}#sk-container-id-2 div.sk-parallel-item:last-child::after {align-self: flex-start;width: 50%;}#sk-container-id-2 div.sk-parallel-item:only-child::after {width: 0;}#sk-container-id-2 div.sk-dashed-wrapped {border: 1px dashed gray;margin: 0 0.4em 0.5em 0.4em;box-sizing: border-box;padding-bottom: 0.4em;background-color: white;}#sk-container-id-2 div.sk-label label {font-family: monospace;font-weight: bold;display: inline-block;line-height: 1.2em;}#sk-container-id-2 div.sk-label-container {text-align: center;}#sk-container-id-2 div.sk-container {/* jupyter's `normalize.less` sets `[hidden] { display: none; }` but bootstrap.min.css set `[hidden] { display: none !important; }` so we also need the `!important` here to be able to override the default hidden behavior on the sphinx rendered scikit-learn.org. See: https://github.com/scikit-learn/scikit-learn/issues/21755 */display: inline-block !important;position: relative;}#sk-container-id-2 div.sk-text-repr-fallback {display: none;}</style><div id=\"sk-container-id-2\" class=\"sk-top-container\"><div class=\"sk-text-repr-fallback\"><pre>SVR(epsilon=1)</pre><b>In a Jupyter environment, please rerun this cell to show the HTML representation or trust the notebook. <br />On GitHub, the HTML representation is unable to render, please try loading this page with nbviewer.org.</b></div><div class=\"sk-container\" hidden><div class=\"sk-item\"><div class=\"sk-estimator sk-toggleable\"><input class=\"sk-toggleable__control sk-hidden--visually\" id=\"sk-estimator-id-2\" type=\"checkbox\" checked><label for=\"sk-estimator-id-2\" class=\"sk-toggleable__label sk-toggleable__label-arrow\">SVR</label><div class=\"sk-toggleable__content\"><pre>SVR(epsilon=1)</pre></div></div></div></div></div>"
            ]
          },
          "metadata": {},
          "execution_count": 44
        }
      ],
      "source": [
        "'''\n",
        "sklearn.svm.SVR(kernel=’rbf’, degree=3, gamma=’auto_deprecated’, coef0=0.0, tol=0.001,\n",
        "                C=1.0, epsilon=0.1, shrinking=True, cache_size=200, verbose=False,max_iter=-1)\n",
        "'''\n",
        "\n",
        "SVRModel = SVR(C = 1.0 ,epsilon=1,kernel = 'rbf') # it also can be : linear, poly, rbf, sigmoid, precomputed\n",
        "SVRModel.fit(X_train, y_train)\n"
      ]
    },
    {
      "cell_type": "markdown",
      "metadata": {
        "id": "TPRxuUNIJ2B-"
      },
      "source": [
        "____\n",
        "\n",
        "how about scores ? \n"
      ]
    },
    {
      "cell_type": "code",
      "execution_count": null,
      "metadata": {
        "colab": {
          "base_uri": "https://localhost:8080/"
        },
        "id": "ni5bEFz7J2CA",
        "outputId": "2a8cc70c-9e35-4c8f-eda9-50eb3b628a57"
      },
      "outputs": [
        {
          "output_type": "stream",
          "name": "stdout",
          "text": [
            "SVRModel Train Score is :  0.5995011340924012\n"
          ]
        }
      ],
      "source": [
        "print('SVRModel Train Score is : ' , SVRModel.score(X_train, y_train))\n",
        "print('SVRModel Test Score is : ' , SVRModel.score(X_test, y_test))"
      ]
    },
    {
      "cell_type": "markdown",
      "metadata": {
        "id": "3mAPpAQSJ2CG"
      },
      "source": [
        "\n",
        "___\n",
        "\n",
        "looks very far from being suitable choice. . \n",
        "\n",
        "\n",
        "and the predicted Values . . \n",
        "\n"
      ]
    },
    {
      "cell_type": "code",
      "execution_count": null,
      "metadata": {
        "id": "kTOouLB6J2CJ"
      },
      "outputs": [],
      "source": [
        "#Calculating Prediction\n",
        "y_pred = SVRModel.predict(X_test)\n",
        "print('Predicted Value for SVRModel is : ' , y_pred[:10])"
      ]
    },
    {
      "cell_type": "markdown",
      "metadata": {
        "id": "vQ6pnIUKJ2CR"
      },
      "source": [
        "\n",
        "____\n",
        "\n",
        "now let's use Decision Tree Regressor\n",
        "\n"
      ]
    },
    {
      "cell_type": "code",
      "execution_count": null,
      "metadata": {
        "id": "PFmiiPGuJ2CT"
      },
      "outputs": [],
      "source": [
        "'''\n",
        "sklearn.tree.DecisionTreeRegressor(criterion='mse’, splitter=’best’, max_depth=None,min_samples_split=2,\n",
        "                                   min_samples_leaf=1,min_weight_fraction_leaf=0.0, max_features=None,\n",
        "                                   random_state=None, max_leaf_nodes=None,min_impurity_decrease=0.0,\n",
        "                                   min_impurity_split=None, presort=False)\n",
        "'''\n",
        "\n",
        "DecisionTreeRegressorModel = DecisionTreeRegressor( max_depth=3,random_state=33)\n",
        "DecisionTreeRegressorModel.fit(X_train, y_train)\n"
      ]
    },
    {
      "cell_type": "markdown",
      "metadata": {
        "id": "BjZ-_QLkJ2Ca"
      },
      "source": [
        "____\n",
        "\n",
        "calculating Scores \n"
      ]
    },
    {
      "cell_type": "code",
      "execution_count": null,
      "metadata": {
        "id": "c9v4KVFOJ2Cd"
      },
      "outputs": [],
      "source": [
        "print('DecisionTreeRegressor Train Score is : ' , DecisionTreeRegressorModel.score(X_train, y_train))\n",
        "print('DecisionTreeRegressor Test Score is : ' , DecisionTreeRegressorModel.score(X_test, y_test))"
      ]
    },
    {
      "cell_type": "markdown",
      "metadata": {
        "id": "6wZfBnHOJ2Ck"
      },
      "source": [
        "\n",
        "___\n",
        "\n",
        "fine numbers , whih pretty close to the Linear Regression . . \n",
        "\n",
        "\n",
        "and Predicted Values"
      ]
    },
    {
      "cell_type": "code",
      "execution_count": null,
      "metadata": {
        "id": "xJbzPRjnJ2Cm"
      },
      "outputs": [],
      "source": [
        "y_pred = DecisionTreeRegressorModel.predict(X_test)\n",
        "print('Predicted Value for DecisionTreeRegressorModel is : ' , y_pred[:10])"
      ]
    },
    {
      "cell_type": "markdown",
      "metadata": {
        "id": "qXCtdYTPJ2Ct"
      },
      "source": [
        "___\n",
        "\n",
        "# Final\n",
        "\n",
        "\n",
        "it looks that using Linear Regression , or Decision Tree will be better in prediction the mean price , but may be changing some parameters in other models bring better accuracy . \n",
        "\n",
        "\n",
        "Hope you find this kernel useful !\n"
      ]
    },
    {
      "cell_type": "code",
      "execution_count": null,
      "metadata": {
        "id": "PjMJJ0trFhKs"
      },
      "outputs": [],
      "source": []
    }
  ],
  "metadata": {
    "accelerator": "GPU",
    "colab": {
      "provenance": []
    },
    "kernelspec": {
      "display_name": "Python 3 (ipykernel)",
      "language": "python",
      "name": "python3"
    },
    "language_info": {
      "codemirror_mode": {
        "name": "ipython",
        "version": 3
      },
      "file_extension": ".py",
      "mimetype": "text/x-python",
      "name": "python",
      "nbconvert_exporter": "python",
      "pygments_lexer": "ipython3",
      "version": "3.10.11"
    }
  },
  "nbformat": 4,
  "nbformat_minor": 0
}